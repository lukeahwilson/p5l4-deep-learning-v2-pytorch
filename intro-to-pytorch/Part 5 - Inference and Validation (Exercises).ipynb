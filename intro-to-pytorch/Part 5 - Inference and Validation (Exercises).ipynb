{
 "cells": [
  {
   "cell_type": "markdown",
   "metadata": {},
   "source": [
    "# Inference and Validation\n",
    "\n",
    "Now that you have a trained network, you can use it for making predictions. This is typically called **inference**, a term borrowed from statistics. However, neural networks have a tendency to perform *too well* on the training data and aren't able to generalize to data that hasn't been seen before. This is called **overfitting** and it impairs inference performance. To test for overfitting while training, we measure the performance on data not in the training set called the **validation** set. We avoid overfitting through regularization such as dropout while monitoring the validation performance during training. In this notebook, I'll show you how to do this in PyTorch. \n",
    "\n",
    "As usual, let's start by loading the dataset through torchvision. You'll learn more about torchvision and loading data in a later part. This time we'll be taking advantage of the test set which you can get by setting `train=False` here:\n",
    "\n",
    "```python\n",
    "testset = datasets.FashionMNIST('~/.pytorch/F_MNIST_data/', download=True, train=False, transform=transform)\n",
    "```\n",
    "\n",
    "The test set contains images just like the training set. Typically you'll see 10-20% of the original dataset held out for testing and validation with the rest being used for training."
   ]
  },
  {
   "cell_type": "code",
   "execution_count": 87,
   "metadata": {},
   "outputs": [],
   "source": [
    "import torch\n",
    "from torchvision import datasets, transforms\n",
    "\n",
    "# Define a transform to normalize the data\n",
    "transform = transforms.Compose([transforms.ToTensor(),\n",
    "                                transforms.Normalize((0.5,), (0.5,))])\n",
    "# Download and load the training data\n",
    "trainset = datasets.FashionMNIST('~/.pytorch/F_MNIST_data/', download=True, train=True, transform=transform)\n",
    "trainloader = torch.utils.data.DataLoader(trainset, batch_size=64, shuffle=True)\n",
    "\n",
    "# Download and load the test data\n",
    "testset = datasets.FashionMNIST('~/.pytorch/F_MNIST_data/', download=True, train=False, transform=transform)\n",
    "testloader = torch.utils.data.DataLoader(testset, batch_size=64, shuffle=True)"
   ]
  },
  {
   "cell_type": "markdown",
   "metadata": {},
   "source": [
    "Here I'll create a model like normal, using the same one from my solution for part 4."
   ]
  },
  {
   "cell_type": "code",
   "execution_count": 88,
   "metadata": {},
   "outputs": [],
   "source": [
    "from torch import nn, optim\n",
    "import torch.nn.functional as F\n",
    "\n",
    "class Classifier(nn.Module):\n",
    "    def __init__(self):\n",
    "        super().__init__()\n",
    "        self.fc1 = nn.Linear(784, 256)\n",
    "        self.fc2 = nn.Linear(256, 128)\n",
    "        self.fc3 = nn.Linear(128, 64)\n",
    "        self.fc4 = nn.Linear(64, 10)\n",
    "        \n",
    "    def forward(self, x):\n",
    "        # make sure input tensor is flattened\n",
    "        x = x.view(x.shape[0], -1)\n",
    "        \n",
    "        x = F.relu(self.fc1(x))\n",
    "        x = F.relu(self.fc2(x))\n",
    "        x = F.relu(self.fc3(x))\n",
    "        x = F.log_softmax(self.fc4(x), dim=1)\n",
    "        \n",
    "        return x"
   ]
  },
  {
   "cell_type": "markdown",
   "metadata": {},
   "source": [
    "The goal of validation is to measure the model's performance on data that isn't part of the training set. Performance here is up to the developer to define though. Typically this is just accuracy, the percentage of classes the network predicted correctly. Other options are [precision and recall](https://en.wikipedia.org/wiki/Precision_and_recall#Definition_(classification_context)) and top-5 error rate. We'll focus on accuracy here. First I'll do a forward pass with one batch from the test set."
   ]
  },
  {
   "cell_type": "code",
   "execution_count": 89,
   "metadata": {},
   "outputs": [
    {
     "name": "stdout",
     "output_type": "stream",
     "text": [
      "torch.Size([64, 10])\n"
     ]
    }
   ],
   "source": [
    "model = Classifier()\n",
    "\n",
    "images, labels = next(iter(testloader))\n",
    "# Get the class probabilities\n",
    "ps = torch.exp(model(images))\n",
    "# Make sure the shape is appropriate, we should get 10 class probabilities for 64 examples\n",
    "print(ps.shape)"
   ]
  },
  {
   "cell_type": "markdown",
   "metadata": {},
   "source": [
    "With the probabilities, we can get the most likely class using the `ps.topk` method. This returns the $k$ highest values. Since we just want the most likely class, we can use `ps.topk(1)`. This returns a tuple of the top-$k$ values and the top-$k$ indices. If the highest value is the fifth element, we'll get back 4 as the index."
   ]
  },
  {
   "cell_type": "code",
   "execution_count": 90,
   "metadata": {},
   "outputs": [
    {
     "name": "stdout",
     "output_type": "stream",
     "text": [
      "tensor([[2],\n",
      "        [2],\n",
      "        [1],\n",
      "        [2],\n",
      "        [1],\n",
      "        [9],\n",
      "        [1],\n",
      "        [9],\n",
      "        [2],\n",
      "        [1]])\n",
      "torch.Size([64, 1])\n"
     ]
    }
   ],
   "source": [
    "top_p, top_class = ps.topk(1, dim=1)\n",
    "# Look at the most likely classes for the first 10 examples\n",
    "print(top_class[:10,:])\n",
    "print(top_class.shape)"
   ]
  },
  {
   "cell_type": "code",
   "execution_count": 91,
   "metadata": {},
   "outputs": [
    {
     "data": {
      "text/plain": [
       "torch.return_types.topk(\n",
       "values=tensor([[0.1094, 0.1082],\n",
       "        [0.1161, 0.1087],\n",
       "        [0.1116, 0.1104],\n",
       "        [0.1109, 0.1099],\n",
       "        [0.1090, 0.1076],\n",
       "        [0.1106, 0.1091],\n",
       "        [0.1098, 0.1093],\n",
       "        [0.1094, 0.1081],\n",
       "        [0.1103, 0.1081],\n",
       "        [0.1082, 0.1078],\n",
       "        [0.1112, 0.1111],\n",
       "        [0.1127, 0.1055],\n",
       "        [0.1105, 0.1071],\n",
       "        [0.1107, 0.1081],\n",
       "        [0.1138, 0.1113],\n",
       "        [0.1138, 0.1105],\n",
       "        [0.1107, 0.1104],\n",
       "        [0.1099, 0.1083],\n",
       "        [0.1091, 0.1085],\n",
       "        [0.1123, 0.1102],\n",
       "        [0.1112, 0.1086],\n",
       "        [0.1092, 0.1076],\n",
       "        [0.1094, 0.1087],\n",
       "        [0.1128, 0.1078],\n",
       "        [0.1103, 0.1088],\n",
       "        [0.1112, 0.1084],\n",
       "        [0.1104, 0.1088],\n",
       "        [0.1144, 0.1066],\n",
       "        [0.1127, 0.1073],\n",
       "        [0.1090, 0.1089],\n",
       "        [0.1090, 0.1079],\n",
       "        [0.1091, 0.1070],\n",
       "        [0.1101, 0.1098],\n",
       "        [0.1069, 0.1065],\n",
       "        [0.1078, 0.1065],\n",
       "        [0.1089, 0.1071],\n",
       "        [0.1102, 0.1099],\n",
       "        [0.1107, 0.1103],\n",
       "        [0.1142, 0.1083],\n",
       "        [0.1117, 0.1066],\n",
       "        [0.1118, 0.1079],\n",
       "        [0.1122, 0.1094],\n",
       "        [0.1124, 0.1077],\n",
       "        [0.1149, 0.1076],\n",
       "        [0.1086, 0.1085],\n",
       "        [0.1107, 0.1078],\n",
       "        [0.1111, 0.1089],\n",
       "        [0.1094, 0.1089],\n",
       "        [0.1087, 0.1082],\n",
       "        [0.1096, 0.1077],\n",
       "        [0.1155, 0.1088],\n",
       "        [0.1100, 0.1090],\n",
       "        [0.1128, 0.1074],\n",
       "        [0.1113, 0.1092],\n",
       "        [0.1103, 0.1086],\n",
       "        [0.1156, 0.1069],\n",
       "        [0.1093, 0.1083],\n",
       "        [0.1092, 0.1085],\n",
       "        [0.1088, 0.1075],\n",
       "        [0.1099, 0.1069],\n",
       "        [0.1096, 0.1080],\n",
       "        [0.1125, 0.1092],\n",
       "        [0.1080, 0.1068],\n",
       "        [0.1172, 0.1082]], grad_fn=<TopkBackward>),\n",
       "indices=tensor([[2, 1],\n",
       "        [2, 1],\n",
       "        [1, 5],\n",
       "        [2, 9],\n",
       "        [1, 9],\n",
       "        [9, 2],\n",
       "        [1, 2],\n",
       "        [9, 1],\n",
       "        [2, 9],\n",
       "        [1, 9],\n",
       "        [5, 1],\n",
       "        [2, 8],\n",
       "        [1, 9],\n",
       "        [1, 2],\n",
       "        [2, 1],\n",
       "        [1, 2],\n",
       "        [2, 1],\n",
       "        [1, 9],\n",
       "        [9, 1],\n",
       "        [1, 2],\n",
       "        [9, 1],\n",
       "        [2, 9],\n",
       "        [1, 9],\n",
       "        [1, 9],\n",
       "        [2, 1],\n",
       "        [2, 1],\n",
       "        [1, 2],\n",
       "        [2, 1],\n",
       "        [2, 9],\n",
       "        [9, 2],\n",
       "        [5, 2],\n",
       "        [9, 5],\n",
       "        [1, 5],\n",
       "        [9, 5],\n",
       "        [9, 8],\n",
       "        [9, 8],\n",
       "        [9, 2],\n",
       "        [5, 1],\n",
       "        [2, 1],\n",
       "        [2, 8],\n",
       "        [2, 1],\n",
       "        [2, 1],\n",
       "        [2, 1],\n",
       "        [2, 1],\n",
       "        [5, 2],\n",
       "        [2, 9],\n",
       "        [1, 9],\n",
       "        [1, 5],\n",
       "        [2, 9],\n",
       "        [2, 9],\n",
       "        [2, 1],\n",
       "        [2, 1],\n",
       "        [2, 9],\n",
       "        [1, 9],\n",
       "        [1, 9],\n",
       "        [2, 8],\n",
       "        [1, 5],\n",
       "        [2, 9],\n",
       "        [2, 9],\n",
       "        [8, 2],\n",
       "        [1, 9],\n",
       "        [2, 9],\n",
       "        [9, 5],\n",
       "        [2, 1]]))"
      ]
     },
     "execution_count": 91,
     "metadata": {},
     "output_type": "execute_result"
    }
   ],
   "source": [
    "ps.topk(2)"
   ]
  },
  {
   "cell_type": "markdown",
   "metadata": {},
   "source": [
    "Now we can check if the predicted classes match the labels. This is simple to do by equating `top_class` and `labels`, but we have to be careful of the shapes. Here `top_class` is a 2D tensor with shape `(64, 1)` while `labels` is 1D with shape `(64)`. To get the equality to work out the way we want, `top_class` and `labels` must have the same shape.\n",
    "\n",
    "If we do\n",
    "\n",
    "```python\n",
    "equals = top_class == labels\n",
    "```\n",
    "\n",
    "`equals` will have shape `(64, 64)`, try it yourself. What it's doing is comparing the one element in each row of `top_class` with each element in `labels` which returns 64 True/False boolean values for each row."
   ]
  },
  {
   "cell_type": "code",
   "execution_count": 92,
   "metadata": {},
   "outputs": [
    {
     "name": "stdout",
     "output_type": "stream",
     "text": [
      "torch.Size([64, 1])\n"
     ]
    },
    {
     "data": {
      "text/plain": [
       "tensor([[False],\n",
       "        [False],\n",
       "        [False],\n",
       "        [False],\n",
       "        [False],\n",
       "        [False],\n",
       "        [False],\n",
       "        [False],\n",
       "        [False],\n",
       "        [False],\n",
       "        [False],\n",
       "        [False],\n",
       "        [False],\n",
       "        [False],\n",
       "        [False],\n",
       "        [False],\n",
       "        [False],\n",
       "        [False],\n",
       "        [False],\n",
       "        [False],\n",
       "        [False],\n",
       "        [False],\n",
       "        [False],\n",
       "        [False],\n",
       "        [False],\n",
       "        [False],\n",
       "        [False],\n",
       "        [False],\n",
       "        [False],\n",
       "        [False],\n",
       "        [False],\n",
       "        [False],\n",
       "        [False],\n",
       "        [False],\n",
       "        [False],\n",
       "        [False],\n",
       "        [False],\n",
       "        [False],\n",
       "        [False],\n",
       "        [False],\n",
       "        [False],\n",
       "        [False],\n",
       "        [False],\n",
       "        [False],\n",
       "        [False],\n",
       "        [False],\n",
       "        [False],\n",
       "        [False],\n",
       "        [False],\n",
       "        [False],\n",
       "        [False],\n",
       "        [False],\n",
       "        [False],\n",
       "        [False],\n",
       "        [False],\n",
       "        [False],\n",
       "        [False],\n",
       "        [False],\n",
       "        [False],\n",
       "        [ True],\n",
       "        [False],\n",
       "        [False],\n",
       "        [False],\n",
       "        [False]])"
      ]
     },
     "execution_count": 92,
     "metadata": {},
     "output_type": "execute_result"
    }
   ],
   "source": [
    "equals = top_class == labels.view(*top_class.shape)\n",
    "print(equals.shape)\n",
    "equals"
   ]
  },
  {
   "cell_type": "code",
   "execution_count": 93,
   "metadata": {},
   "outputs": [
    {
     "name": "stdout",
     "output_type": "stream",
     "text": [
      "torch.Size([64])\n"
     ]
    },
    {
     "data": {
      "text/plain": [
       "tensor([False, False, False, False, False, False, False, False, False, False,\n",
       "        False, False, False, False, False, False, False, False, False, False,\n",
       "        False, False, False, False, False, False, False, False, False, False,\n",
       "        False, False, False, False, False, False, False, False, False, False,\n",
       "        False, False, False, False, False, False, False, False, False, False,\n",
       "        False, False, False, False, False, False, False, False, False,  True,\n",
       "        False, False, False, False])"
      ]
     },
     "execution_count": 93,
     "metadata": {},
     "output_type": "execute_result"
    }
   ],
   "source": [
    "equals = top_class.view(*labels.shape) == labels\n",
    "print(equals.shape)\n",
    "equals"
   ]
  },
  {
   "cell_type": "markdown",
   "metadata": {},
   "source": [
    "Now we need to calculate the percentage of correct predictions. `equals` has binary values, either 0 or 1. This means that if we just sum up all the values and divide by the number of values, we get the percentage of correct predictions. This is the same operation as taking the mean, so we can get the accuracy with a call to `torch.mean`. If only it was that simple. If you try `torch.mean(equals)`, you'll get an error\n",
    "\n",
    "```\n",
    "RuntimeError: mean is not implemented for type torch.ByteTensor\n",
    "```\n",
    "\n",
    "This happens because `equals` has type `torch.ByteTensor` but `torch.mean` isn't implemented for tensors with that type. So we'll need to convert `equals` to a float tensor. Note that when we take `torch.mean` it returns a scalar tensor, to get the actual value as a float we'll need to do `accuracy.item()`."
   ]
  },
  {
   "cell_type": "code",
   "execution_count": 94,
   "metadata": {},
   "outputs": [
    {
     "name": "stdout",
     "output_type": "stream",
     "text": [
      "Accuracy: 1.5625%\n"
     ]
    }
   ],
   "source": [
    "accuracy = torch.mean(equals.type(torch.FloatTensor))\n",
    "print(f'Accuracy: {accuracy.item()*100}%')"
   ]
  },
  {
   "cell_type": "markdown",
   "metadata": {},
   "source": [
    "The network is untrained so it's making random guesses and we should see an accuracy around 10%. Now let's train our network and include our validation pass so we can measure how well the network is performing on the test set. Since we're not updating our parameters in the validation pass, we can speed up our code by turning off gradients using `torch.no_grad()`:\n",
    "\n",
    "```python\n",
    "# turn off gradients\n",
    "with torch.no_grad():\n",
    "    # validation pass here\n",
    "    for images, labels in testloader:\n",
    "        ...\n",
    "```\n",
    "\n",
    ">**Exercise:** Implement the validation loop below and print out the total accuracy after the loop. You can largely copy and paste the code from above, but I suggest typing it in because writing it out yourself is essential for building the skill. In general you'll always learn more by typing it rather than copy-pasting. You should be able to get an accuracy above 80%."
   ]
  },
  {
   "cell_type": "code",
   "execution_count": 95,
   "metadata": {},
   "outputs": [
    {
     "name": "stdout",
     "output_type": "stream",
     "text": [
      "Epoch: 0/10..  Training Loss: 0.515..  Test Loss: 0.425..  Test Accuracy: 0.847\n",
      "Epoch: 1/10..  Training Loss: 0.393..  Test Loss: 0.396..  Test Accuracy: 0.860\n",
      "Epoch: 2/10..  Training Loss: 0.352..  Test Loss: 0.388..  Test Accuracy: 0.862\n",
      "Epoch: 3/10..  Training Loss: 0.330..  Test Loss: 0.379..  Test Accuracy: 0.866\n",
      "Epoch: 4/10..  Training Loss: 0.318..  Test Loss: 0.396..  Test Accuracy: 0.859\n",
      "Epoch: 5/10..  Training Loss: 0.300..  Test Loss: 0.373..  Test Accuracy: 0.872\n",
      "Epoch: 6/10..  Training Loss: 0.288..  Test Loss: 0.404..  Test Accuracy: 0.871\n",
      "Epoch: 7/10..  Training Loss: 0.284..  Test Loss: 0.364..  Test Accuracy: 0.870\n",
      "Epoch: 8/10..  Training Loss: 0.273..  Test Loss: 0.376..  Test Accuracy: 0.876\n",
      "Epoch: 9/10..  Training Loss: 0.268..  Test Loss: 0.366..  Test Accuracy: 0.873\n"
     ]
    }
   ],
   "source": [
    "\n",
    "\n",
    "model = Classifier()\n",
    "criterion = nn.NLLLoss()\n",
    "optimizer = optim.Adam(model.parameters(), lr=0.003)\n",
    "\n",
    "epochs = 10\n",
    "steps = 0\n",
    "\n",
    "training_losses, testing_losses = [], []\n",
    "for e in range(epochs):\n",
    "    sum_training_loss = 0\n",
    "    for images, labels in trainloader:\n",
    "        \n",
    "        optimizer.zero_grad()\n",
    "        \n",
    "        log_ps = model(images)\n",
    "        loss = criterion(log_ps, labels)\n",
    "        loss.backward()\n",
    "        optimizer.step()\n",
    "        \n",
    "        sum_training_loss += loss.item()\n",
    "        \n",
    "    else:\n",
    "        ## TODO: Implement the validation pass and print out the validation accuracy\n",
    "        sum_testing_loss = 0\n",
    "        testing_correct = 0\n",
    "        \n",
    "        with torch.no_grad():\n",
    "            for images, labels in testloader:\n",
    "                log_ps = model(images)\n",
    "                loss = criterion(log_ps, labels)\n",
    "                sum_testing_loss += loss.item()\n",
    "        \n",
    "                ps = torch.exp(log_ps)\n",
    "                top_p, top_class = ps.topk(1, dim=1)\n",
    "                equals = top_class.view(labels.shape) == labels\n",
    "                testing_correct += equals.sum().item()\n",
    "        \n",
    "        training_loss = sum_training_loss / len(trainloader)\n",
    "        testing_loss = sum_testing_loss / len(testloader)\n",
    "        \n",
    "        training_losses.append(training_loss)\n",
    "        testing_losses.append(testing_loss)\n",
    "        \n",
    "        print('Epoch: {}/{}.. '.format(e, epochs),\n",
    "              'Training Loss: {:.3f}.. '.format(training_loss),\n",
    "              'Test Loss: {:.3f}.. '.format(testing_loss),\n",
    "              'Test Accuracy: {:.3f}'.format(testing_correct / len(testloader.dataset)))"
   ]
  },
  {
   "cell_type": "code",
   "execution_count": 96,
   "metadata": {},
   "outputs": [
    {
     "data": {
      "text/plain": [
       "<matplotlib.legend.Legend at 0x238ac42b760>"
      ]
     },
     "execution_count": 96,
     "metadata": {},
     "output_type": "execute_result"
    },
    {
     "data": {
      "image/png": "[encoded data removed]",
      "text/plain": [
       "<Figure size 432x288 with 1 Axes>"
      ]
     },
     "metadata": {
      "image/png": {
       "height": 248,
       "width": 378
      },
      "needs_background": "light"
     },
     "output_type": "display_data"
    }
   ],
   "source": [
    "import matplotlib.pyplot as plt\n",
    "%matplotlib inline\n",
    "%config InlineBackend.figure_format = 'retina'\n",
    "\n",
    "plt.plot(training_losses, label='Training loss')\n",
    "plt.plot(testing_losses, label='Validation loss')\n",
    "plt.legend(frameon=False)"
   ]
  },
  {
   "cell_type": "code",
   "execution_count": 97,
   "metadata": {},
   "outputs": [
    {
     "name": "stdout",
     "output_type": "stream",
     "text": [
      "tensor(0.9136)\n",
      "0.9135695695877075\n",
      "0.2680178853446868\n",
      "tensor([[9.8972e-01, 7.3096e-07, 3.4536e-05, 6.7240e-05, 5.2654e-07, 7.2959e-20,\n",
      "         1.0179e-02, 4.5887e-21, 6.2462e-10, 1.4990e-19],\n",
      "        [8.9210e-04, 8.1519e-08, 9.3528e-01, 1.9936e-05, 8.9723e-03, 5.8025e-15,\n",
      "         5.4838e-02, 4.2487e-15, 2.5092e-09, 7.0036e-14],\n",
      "        [7.8240e-10, 2.1826e-12, 7.9781e-17, 8.6049e-14, 4.7497e-18, 9.7338e-01,\n",
      "         2.6551e-15, 1.2993e-05, 7.2152e-11, 2.6606e-02],\n",
      "        [1.2153e-09, 2.0964e-13, 1.0647e-13, 3.8263e-12, 3.1109e-12, 8.7531e-04,\n",
      "         2.5157e-11, 9.9835e-01, 1.4325e-04, 6.3513e-04],\n",
      "        [4.0637e-01, 1.0263e-02, 3.8607e-02, 1.8123e-01, 3.0550e-02, 1.1901e-04,\n",
      "         3.1801e-01, 6.8690e-06, 1.4832e-02, 8.8819e-06],\n",
      "        [1.3913e-04, 1.4460e-09, 4.7085e-03, 1.5786e-05, 9.9502e-01, 2.0638e-14,\n",
      "         3.9653e-05, 2.1464e-11, 7.7160e-05, 1.6773e-10],\n",
      "        [4.8132e-04, 9.2994e-03, 2.0458e-02, 4.0138e-01, 5.2711e-01, 3.6305e-07,\n",
      "         4.0621e-02, 1.5393e-08, 6.4923e-04, 4.4371e-09],\n",
      "        [1.3622e-04, 6.6482e-09, 1.4171e-03, 1.6636e-04, 2.0469e-02, 3.2516e-12,\n",
      "         9.7781e-01, 1.6409e-13, 1.7892e-06, 1.5460e-12],\n",
      "        [2.2211e-11, 1.0000e+00, 5.1908e-15, 5.7470e-09, 3.6899e-13, 1.0819e-29,\n",
      "         5.9860e-11, 8.5719e-28, 6.6454e-19, 6.4808e-23],\n",
      "        [4.8919e-10, 1.0000e+00, 4.3248e-14, 1.1548e-07, 2.9440e-12, 3.2463e-22,\n",
      "         2.3195e-09, 2.4483e-22, 1.3440e-14, 8.8343e-19],\n",
      "        [8.9462e-03, 1.0598e-09, 3.1691e-06, 3.7616e-06, 1.2970e-06, 1.4467e-18,\n",
      "         9.9105e-01, 1.6301e-23, 7.6497e-09, 7.0878e-22],\n",
      "        [3.1150e-02, 7.4173e-05, 5.2262e-03, 3.8536e-03, 1.7967e-03, 1.1883e-03,\n",
      "         6.5978e-02, 1.5752e-04, 8.9039e-01, 1.8646e-04],\n",
      "        [7.1605e-21, 1.7085e-24, 1.5346e-32, 1.0708e-23, 9.9683e-30, 4.1479e-07,\n",
      "         2.0364e-25, 5.3348e-05, 2.4458e-14, 9.9995e-01],\n",
      "        [3.8769e-14, 1.6703e-16, 4.5754e-21, 1.7446e-15, 1.9112e-19, 7.1300e-05,\n",
      "         2.3613e-16, 7.0307e-03, 3.7734e-09, 9.9290e-01],\n",
      "        [7.1932e-01, 6.7502e-04, 2.4691e-02, 1.1400e-02, 1.6412e-03, 1.3580e-04,\n",
      "         2.0634e-01, 1.0288e-05, 3.5772e-02, 1.3562e-05],\n",
      "        [8.6779e-18, 1.0000e+00, 2.6120e-22, 1.1615e-17, 2.1262e-20, 1.1799e-42,\n",
      "         5.0555e-16, 2.4085e-36, 1.7107e-28, 5.6224e-30]])\n",
      "tensor([[0],\n",
      "        [2],\n",
      "        [5],\n",
      "        [7],\n",
      "        [0],\n",
      "        [4],\n",
      "        [4],\n",
      "        [6],\n",
      "        [1],\n",
      "        [1],\n",
      "        [6],\n",
      "        [8],\n",
      "        [9],\n",
      "        [9],\n",
      "        [0],\n",
      "        [1]])\n",
      "13\n"
     ]
    }
   ],
   "source": [
    "print(loss)\n",
    "print(loss.item())\n",
    "print(training_loss)\n",
    "print(ps)\n",
    "print(top_class)\n",
    "print(equals.sum().item())"
   ]
  },
  {
   "cell_type": "markdown",
   "metadata": {},
   "source": [
    "## Overfitting\n",
    "\n",
    "If we look at the training and validation losses as we train the network, we can see a phenomenon known as overfitting.\n",
    "\n",
    "<img src='assets/overfitting.png' width=450px>\n",
    "\n",
    "The network learns the training set better and better, resulting in lower training losses. However, it starts having problems generalizing to data outside the training set leading to the validation loss increasing. The ultimate goal of any deep learning model is to make predictions on new data, so we should strive to get the lowest validation loss possible. One option is to use the version of the model with the lowest validation loss, here the one around 8-10 training epochs. This strategy is called *early-stopping*. In practice, you'd save the model frequently as you're training then later choose the model with the lowest validation loss.\n",
    "\n",
    "The most common method to reduce overfitting (outside of early-stopping) is *dropout*, where we randomly drop input units. This forces the network to share information between weights, increasing it's ability to generalize to new data. Adding dropout in PyTorch is straightforward using the [`nn.Dropout`](https://pytorch.org/docs/stable/nn.html#torch.nn.Dropout) module.\n",
    "\n",
    "```python\n",
    "class Classifier(nn.Module):\n",
    "    def __init__(self):\n",
    "        super().__init__()\n",
    "        self.fc1 = nn.Linear(784, 256)\n",
    "        self.fc2 = nn.Linear(256, 128)\n",
    "        self.fc3 = nn.Linear(128, 64)\n",
    "        self.fc4 = nn.Linear(64, 10)\n",
    "        \n",
    "        # Dropout module with 0.2 drop probability\n",
    "        self.dropout = nn.Dropout(p=0.2)\n",
    "        \n",
    "    def forward(self, x):\n",
    "        # make sure input tensor is flattened\n",
    "        x = x.view(x.shape[0], -1)\n",
    "        \n",
    "        # Now with dropout\n",
    "        x = self.dropout(F.relu(self.fc1(x)))\n",
    "        x = self.dropout(F.relu(self.fc2(x)))\n",
    "        x = self.dropout(F.relu(self.fc3(x)))\n",
    "        \n",
    "        # output so no dropout here\n",
    "        x = F.log_softmax(self.fc4(x), dim=1)\n",
    "        \n",
    "        return x\n",
    "```\n",
    "\n",
    "During training we want to use dropout to prevent overfitting, but during inference we want to use the entire network. So, we need to turn off dropout during validation, testing, and whenever we're using the network to make predictions. To do this, you use `model.eval()`. This sets the model to evaluation mode where the dropout probability is 0. You can turn dropout back on by setting the model to train mode with `model.train()`. In general, the pattern for the validation loop will look like this, where you turn off gradients, set the model to evaluation mode, calculate the validation loss and metric, then set the model back to train mode.\n",
    "\n",
    "```python\n",
    "# turn off gradients\n",
    "with torch.no_grad():\n",
    "    \n",
    "    # set model to evaluation mode\n",
    "    model.eval()\n",
    "    \n",
    "    # validation pass here\n",
    "    for images, labels in testloader:\n",
    "        ...\n",
    "\n",
    "# set model back to train mode\n",
    "model.train()\n",
    "```"
   ]
  },
  {
   "cell_type": "markdown",
   "metadata": {},
   "source": [
    "> **Exercise:** Add dropout to your model and train it on Fashion-MNIST again. See if you can get a lower validation loss or higher accuracy."
   ]
  },
  {
   "cell_type": "code",
   "execution_count": 98,
   "metadata": {},
   "outputs": [],
   "source": [
    "## TODO: Define your model with dropout added\n",
    "\n",
    "class Classifier(nn.Module):\n",
    "    def __init__(self):\n",
    "        super().__init__()\n",
    "        self.fc1 = nn.Linear(784, 256)\n",
    "        self.fc2 = nn.Linear(256, 128)\n",
    "        self.fc3 = nn.Linear(128, 64)\n",
    "        self.fc4 = nn.Linear(64, 10)\n",
    "        self.dropout = nn.Dropout(p=0.2)\n",
    "        \n",
    "    def forward(self, x):\n",
    "        x = x.view(x.shape[0], -1)\n",
    "        x = self.dropout(F.relu(self.fc1(x)))\n",
    "        x = self.dropout(F.relu(self.fc2(x)))\n",
    "        x = self.dropout(F.relu(self.fc3(x)))\n",
    "        x = F.log_softmax(self.fc4(x), dim=1)\n",
    "        return x"
   ]
  },
  {
   "cell_type": "code",
   "execution_count": 116,
   "metadata": {},
   "outputs": [
    {
     "name": "stdout",
     "output_type": "stream",
     "text": [
      "Epoch: 1/10..  Training Loss: 0.606..  Test Loss: 0.482..  Test Accuracy: 0.823\n",
      "Epoch: 2/10..  Training Loss: 0.481..  Test Loss: 0.426..  Test Accuracy: 0.848\n",
      "Epoch: 3/10..  Training Loss: 0.449..  Test Loss: 0.427..  Test Accuracy: 0.850\n",
      "Epoch: 4/10..  Training Loss: 0.433..  Test Loss: 0.403..  Test Accuracy: 0.851\n",
      "Epoch: 5/10..  Training Loss: 0.421..  Test Loss: 0.398..  Test Accuracy: 0.859\n",
      "Epoch: 6/10..  Training Loss: 0.410..  Test Loss: 0.408..  Test Accuracy: 0.854\n",
      "Epoch: 7/10..  Training Loss: 0.401..  Test Loss: 0.399..  Test Accuracy: 0.852\n",
      "Epoch: 8/10..  Training Loss: 0.402..  Test Loss: 0.398..  Test Accuracy: 0.861\n",
      "Epoch: 9/10..  Training Loss: 0.392..  Test Loss: 0.406..  Test Accuracy: 0.861\n",
      "Epoch: 10/10..  Training Loss: 0.389..  Test Loss: 0.395..  Test Accuracy: 0.863\n"
     ]
    }
   ],
   "source": [
    "model = Classifier()\n",
    "criterion = nn.NLLLoss()\n",
    "optimizer = optim.Adam(model.parameters(), lr=0.003)\n",
    "epochs = 10\n",
    "steps = 0\n",
    "training_loss_history, testing_loss_history = [], []\n",
    "\n",
    "for e in range (epochs):\n",
    "    sum_training_loss = 0\n",
    "    for images, labels in trainloader:\n",
    "        optimizer.zero_grad()\n",
    "        log_prob = model.forward(images)\n",
    "        loss = criterion(log_prob, labels)\n",
    "        loss.backward()\n",
    "        optimizer.step()\n",
    "        sum_training_loss += loss.item()\n",
    "    \n",
    "    else:\n",
    "        sum_testing_loss = 0\n",
    "        testing_correct_count = 0\n",
    "        with torch.no_grad():\n",
    "            model.eval()\n",
    "            for images, labels in testloader:\n",
    "                log_prob = model.forward(images)\n",
    "                loss = criterion(log_prob, labels)\n",
    "                sum_testing_loss += loss.item()\n",
    "                ps = torch.exp(log_prob)\n",
    "                top_prob, top_class = ps.topk(1, dim=1)\n",
    "                equals = top_class.view(labels.shape) == labels\n",
    "                testing_correct_count += equals.sum().item()\n",
    "\n",
    "            training_loss = sum_training_loss / len(trainloader)\n",
    "            testing_loss = sum_testing_loss / len(testloader)\n",
    "            training_loss_history.append(training_loss)\n",
    "            testing_loss_history.append(testing_loss)\n",
    "\n",
    "        model.train()\n",
    "        print('Epoch: {}/{}.. '.format(e+1, epochs),\n",
    "            'Training Loss: {:.3f}.. '.format(training_loss),\n",
    "            'Test Loss: {:.3f}.. '.format(testing_loss),\n",
    "            'Test Accuracy: {:.3f}'.format(testing_correct_count / len(testloader.dataset)))\n",
    "        \n",
    "## TODO: Train your model with dropout, and monitor the training progress with the validation loss and accuracy"
   ]
  },
  {
   "cell_type": "code",
   "execution_count": 117,
   "metadata": {},
   "outputs": [
    {
     "data": {
      "text/plain": [
       "<matplotlib.legend.Legend at 0x238a9de1e50>"
      ]
     },
     "execution_count": 117,
     "metadata": {},
     "output_type": "execute_result"
    },
    {
     "data": {
      "image/png": "[encoded data removed]",
      "text/plain": [
       "<Figure size 432x288 with 1 Axes>"
      ]
     },
     "metadata": {
      "image/png": {
       "height": 248,
       "width": 378
      },
      "needs_background": "light"
     },
     "output_type": "display_data"
    }
   ],
   "source": [
    "plt.plot(training_loss_history, label='Training loss')\n",
    "plt.plot(testing_loss_history, label='Validation loss')\n",
    "plt.legend(frameon=False)"
   ]
  },
  {
   "cell_type": "markdown",
   "metadata": {},
   "source": [
    "## Inference\n",
    "\n",
    "Now that the model is trained, we can use it for inference. We've done this before, but now we need to remember to set the model in inference mode with `model.eval()`. You'll also want to turn off autograd with the `torch.no_grad()` context."
   ]
  },
  {
   "cell_type": "code",
   "execution_count": 120,
   "metadata": {},
   "outputs": [
    {
     "data": {
      "image/png": "[encoded data removed]",
      "text/plain": [
       "<Figure size 432x648 with 2 Axes>"
      ]
     },
     "metadata": {
      "image/png": {
       "height": 216,
       "width": 424
      },
      "needs_background": "light"
     },
     "output_type": "display_data"
    }
   ],
   "source": [
    "# Import helper module (should be in the repo)\n",
    "import helper\n",
    "\n",
    "# Test out your network!\n",
    "\n",
    "model.eval()\n",
    "\n",
    "dataiter = iter(testloader)\n",
    "images, labels = dataiter.next()\n",
    "img = images[0]\n",
    "# Convert 2D image to 1D vector\n",
    "img = img.view(1, 784)\n",
    "\n",
    "# Calculate the class probabilities (softmax) for img\n",
    "with torch.no_grad():\n",
    "    output = model.forward(img)\n",
    "\n",
    "ps = torch.exp(output)\n",
    "\n",
    "# Plot the image and probabilities\n",
    "helper.view_classify(img.view(1, 28, 28), ps, version='Fashion')"
   ]
  },
  {
   "cell_type": "markdown",
   "metadata": {},
   "source": [
    "## Next Up!\n",
    "\n",
    "In the next part, I'll show you how to save your trained models. In general, you won't want to train a model everytime you need it. Instead, you'll train once, save it, then load the model when you want to train more or use if for inference."
   ]
  }
 ],
 "metadata": {
  "kernelspec": {
   "display_name": "Python 3",
   "language": "python",
   "name": "python3"
  },
  "language_info": {
   "codemirror_mode": {
    "name": "ipython",
    "version": 3
   },
   "file_extension": ".py",
   "mimetype": "text/x-python",
   "name": "python",
   "nbconvert_exporter": "python",
   "pygments_lexer": "ipython3",
   "version": "3.8.8"
  }
 },
 "nbformat": 4,
 "nbformat_minor": 2
}
