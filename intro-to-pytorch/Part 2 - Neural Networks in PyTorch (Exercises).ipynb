{
 "cells": [
  {
   "cell_type": "markdown",
   "metadata": {},
   "source": [
    "# Neural networks with PyTorch\n",
    "\n",
    "Deep learning networks tend to be massive with dozens or hundreds of layers, that's where the term \"deep\" comes from. You can build one of these deep networks using only weight matrices as we did in the previous notebook, but in general it's very cumbersome and difficult to implement. PyTorch has a nice module `nn` that provides a nice way to efficiently build large neural networks."
   ]
  },
  {
   "cell_type": "code",
   "execution_count": 19,
   "metadata": {},
   "outputs": [],
   "source": [
    "# Import necessary packages\n",
    "\n",
    "%matplotlib inline\n",
    "%config InlineBackend.figure_format = 'retina'\n",
    "\n",
    "import numpy as np\n",
    "import torch\n",
    "\n",
    "import helper\n",
    "\n",
    "import matplotlib.pyplot as plt"
   ]
  },
  {
   "cell_type": "markdown",
   "metadata": {},
   "source": [
    "\n",
    "Now we're going to build a larger network that can solve a (formerly) difficult problem, identifying text in an image. Here we'll use the MNIST dataset which consists of greyscale handwritten digits. Each image is 28x28 pixels, you can see a sample below\n",
    "\n",
    "<img src='assets/mnist.png'>\n",
    "\n",
    "Our goal is to build a neural network that can take one of these images and predict the digit in the image.\n",
    "\n",
    "First up, we need to get our dataset. This is provided through the `torchvision` package. The code below will download the MNIST dataset, then create training and test datasets for us. Don't worry too much about the details here, you'll learn more about this later."
   ]
  },
  {
   "cell_type": "code",
   "execution_count": 20,
   "metadata": {},
   "outputs": [
    {
     "name": "stdout",
     "output_type": "stream",
     "text": [
      "1\n"
     ]
    }
   ],
   "source": [
    "# The MNIST datasets are hosted on yann.lecun.com that has moved under CloudFlare protection\n",
    "# Run this script to enable the datasets download\n",
    "# Reference: https://github.com/pytorch/vision/issues/1938\n",
    "\n",
    "from six.moves import urllib\n",
    "opener = urllib.request.build_opener()\n",
    "opener.addheaders = [('User-agent', 'Mozilla/5.0')]\n",
    "urllib.request.install_opener(opener)\n",
    "print(1)"
   ]
  },
  {
   "cell_type": "code",
   "execution_count": 21,
   "metadata": {},
   "outputs": [
    {
     "name": "stdout",
     "output_type": "stream",
     "text": [
      "1\n"
     ]
    }
   ],
   "source": [
    "### Run this cell\n",
    "\n",
    "from torchvision import datasets, transforms\n",
    "\n",
    "# Define a transform to normalize the data\n",
    "transform = transforms.Compose([transforms.ToTensor(),\n",
    "                              transforms.Normalize((0.5,), (0.5,)),\n",
    "                              ])\n",
    "\n",
    "# Download and load the training data\n",
    "trainset = datasets.MNIST('~/.pytorch/MNIST_data/', download=True, train=True, transform=transform)\n",
    "trainloader = torch.utils.data.DataLoader(trainset, batch_size=64, shuffle=True)\n",
    "print(1)"
   ]
  },
  {
   "cell_type": "markdown",
   "metadata": {},
   "source": [
    "We have the training data loaded into `trainloader` and we make that an iterator with `iter(trainloader)`. Later, we'll use this to loop through the dataset for training, like\n",
    "\n",
    "```python\n",
    "for image, label in trainloader:\n",
    "    ## do things with images and labels\n",
    "```\n",
    "\n",
    "You'll notice I created the `trainloader` with a batch size of 64, and `shuffle=True`. The batch size is the number of images we get in one iteration from the data loader and pass through our network, often called a *batch*. And `shuffle=True` tells it to shuffle the dataset every time we start going through the data loader again. But here I'm just grabbing the first batch so we can check out the data. We can see below that `images` is just a tensor with size `(64, 1, 28, 28)`. So, 64 images per batch, 1 color channel, and 28x28 images."
   ]
  },
  {
   "cell_type": "code",
   "execution_count": 22,
   "metadata": {},
   "outputs": [
    {
     "name": "stdout",
     "output_type": "stream",
     "text": [
      "<class 'torch.Tensor'>\n",
      "torch.Size([64, 1, 28, 28])\n",
      "torch.Size([64])\n"
     ]
    }
   ],
   "source": [
    "dataiter = iter(trainloader)\n",
    "images, labels = dataiter.next()\n",
    "print(type(images))\n",
    "print(images.shape)\n",
    "print(labels.shape)"
   ]
  },
  {
   "cell_type": "markdown",
   "metadata": {},
   "source": [
    "This is what one of the images looks like. "
   ]
  },
  {
   "cell_type": "code",
   "execution_count": 23,
   "metadata": {},
   "outputs": [
    {
     "data": {
      "image/png": "[encoded data removed]",
      "text/plain": [
       "<Figure size 432x288 with 1 Axes>"
      ]
     },
     "metadata": {
      "image/png": {
       "height": 248,
       "width": 251
      },
      "needs_background": "light"
     },
     "output_type": "display_data"
    }
   ],
   "source": [
    "plt.imshow(images[1].numpy().squeeze(), cmap='Greys_r');\n",
    "\n",
    "# def imshow(image, ax=None, title=None, normalize=True):\n",
    "#     \"\"\"Imshow for Tensor.\"\"\"\n",
    "#     if ax is None:\n",
    "#         fig, ax = plt.subplots()\n",
    "#     image = image.numpy().transpose((1, 2, 0))\n",
    "#     if normalize:\n",
    "#         mean = np.array([0.485, 0.456, 0.406])\n",
    "#         std = np.array([0.229, 0.224, 0.225])\n",
    "#         image = std * image + mean\n",
    "#         image = np.clip(image, 0, 1)\n",
    "#     ax.imshow(image)\n",
    "#     ax.spines['top'].set_visible(False)\n",
    "#     ax.spines['right'].set_visible(False)\n",
    "#     ax.spines['left'].set_visible(False)\n",
    "#     ax.spines['bottom'].set_visible(False)\n",
    "#     ax.tick_params(axis='both', length=0)\n",
    "#     ax.set_xticklabels('')\n",
    "#     ax.set_yticklabels('')\n",
    "#     return ax\n",
    "# image, label = next(iter(trainloader))\n",
    "# imshow(image[0,:]);"
   ]
  },
  {
   "cell_type": "markdown",
   "metadata": {},
   "source": [
    "First, let's try to build a simple network for this dataset using weight matrices and matrix multiplications. Then, we'll see how to do it using PyTorch's `nn` module which provides a much more convenient and powerful method for defining network architectures.\n",
    "\n",
    "The networks you've seen so far are called *fully-connected* or *dense* networks. Each unit in one layer is connected to each unit in the next layer. In fully-connected networks, the input to each layer must be a one-dimensional vector (which can be stacked into a 2D tensor as a batch of multiple examples). However, our images are 28x28 2D tensors, so we need to convert them into 1D vectors. Thinking about sizes, we need to convert the batch of images with shape `(64, 1, 28, 28)` to a have a shape of `(64, 784)`, 784 is 28 times 28. This is typically called *flattening*, we flattened the 2D images into 1D vectors.\n",
    "\n",
    "Previously you built a network with one output unit. Here we need 10 output units, one for each digit. We want our network to predict the digit shown in an image, so what we'll do is calculate probabilities that the image is of any one digit or class. This ends up being a discrete probability distribution over the classes (digits) that tells us the most likely class for the image. That means we need 10 output units for the 10 classes (digits). We'll see how to convert the network output into a probability distribution next.\n",
    "\n",
    "> **Exercise:** Flatten the batch of images `images`. Then build a multi-layer network with 784 input units, 256 hidden units, and 10 output units using random tensors for the weights and biases. For now, use a sigmoid activation for the hidden layer. Leave the output layer without an activation, we'll add one that gives us a probability distribution next."
   ]
  },
  {
   "cell_type": "code",
   "execution_count": 24,
   "metadata": {},
   "outputs": [
    {
     "name": "stdout",
     "output_type": "stream",
     "text": [
      "torch.Size([64, 10])\n",
      "tensor([[9.8519e-02, 9.8765e-01, 5.3895e-04, 3.1702e-08, 4.9807e-01, 8.9934e-07,\n",
      "         5.8480e-01, 1.0000e+00, 1.5812e-06, 2.9906e-03],\n",
      "        [8.3495e-01, 9.9982e-01, 3.5491e-01, 2.0292e-07, 3.2896e-02, 2.9367e-09,\n",
      "         9.0015e-01, 9.9996e-01, 1.5889e-05, 3.8008e-06],\n",
      "        [1.3395e-03, 8.5016e-02, 4.4657e-01, 3.1914e-06, 2.3060e-01, 1.3081e-10,\n",
      "         9.9837e-01, 1.0000e+00, 1.3053e-01, 5.6945e-01],\n",
      "        [1.2137e-05, 9.9996e-01, 1.4695e-02, 5.1452e-07, 3.7873e-02, 2.4831e-05,\n",
      "         9.9991e-01, 1.0000e+00, 9.8427e-06, 1.3923e-04],\n",
      "        [3.0678e-03, 9.9823e-01, 9.9992e-01, 7.0365e-01, 7.8266e-01, 4.9392e-10,\n",
      "         9.9999e-01, 1.0000e+00, 9.2707e-01, 7.2591e-01],\n",
      "        [1.4234e-01, 9.4993e-01, 3.5566e-01, 5.3967e-02, 9.8858e-01, 6.5644e-12,\n",
      "         9.9982e-01, 1.0000e+00, 1.9009e-07, 1.6096e-01],\n",
      "        [1.0078e-04, 9.9061e-01, 9.9248e-05, 7.6793e-05, 1.5322e-02, 7.5459e-09,\n",
      "         1.6906e-04, 1.0000e+00, 3.7490e-08, 1.0417e-04],\n",
      "        [2.1529e-04, 9.7488e-01, 9.9729e-01, 9.4375e-09, 1.0826e-05, 2.0696e-08,\n",
      "         1.3473e-01, 1.0000e+00, 8.9402e-05, 8.3027e-05],\n",
      "        [9.3570e-01, 9.9999e-01, 8.2939e-04, 1.2662e-04, 2.2004e-02, 8.8304e-13,\n",
      "         6.5792e-01, 9.9988e-01, 1.4241e-07, 8.6391e-01],\n",
      "        [9.6446e-01, 9.9935e-01, 2.1311e-01, 3.5421e-01, 8.7201e-01, 5.1192e-08,\n",
      "         3.2970e-01, 9.9878e-01, 4.7875e-07, 5.6748e-05],\n",
      "        [9.9220e-01, 9.9988e-01, 9.9878e-01, 3.6218e-01, 2.0501e-05, 1.1960e-11,\n",
      "         9.9999e-01, 1.0000e+00, 4.8641e-08, 9.2286e-06],\n",
      "        [4.8724e-05, 9.9989e-01, 2.4792e-02, 1.5177e-06, 6.7451e-02, 1.1096e-07,\n",
      "         9.9987e-01, 1.0000e+00, 5.7357e-05, 7.6276e-01],\n",
      "        [9.6199e-01, 1.0000e+00, 8.4445e-01, 1.0611e-02, 9.9595e-01, 3.8440e-11,\n",
      "         9.9995e-01, 1.0000e+00, 1.4326e-05, 9.1217e-02],\n",
      "        [1.1550e-07, 9.9691e-01, 8.6556e-02, 5.0797e-10, 3.2789e-01, 5.9881e-08,\n",
      "         9.5965e-01, 9.9713e-01, 3.3622e-06, 1.1357e-03],\n",
      "        [3.5082e-02, 1.0000e+00, 1.0125e-02, 6.1088e-02, 1.9925e-02, 1.2759e-07,\n",
      "         9.9986e-01, 1.0000e+00, 1.5783e-05, 3.1396e-03],\n",
      "        [3.7157e-04, 9.9998e-01, 1.2830e-01, 7.4307e-06, 2.8369e-03, 1.0041e-11,\n",
      "         9.9892e-01, 1.0000e+00, 3.6640e-04, 8.9619e-01],\n",
      "        [9.9992e-01, 1.0000e+00, 4.7786e-03, 1.3467e-05, 8.8404e-01, 1.0020e-06,\n",
      "         9.9995e-01, 1.0000e+00, 4.3222e-09, 9.3694e-03],\n",
      "        [5.4923e-01, 9.9997e-01, 8.8293e-01, 4.6318e-01, 2.3481e-02, 1.2653e-07,\n",
      "         9.8899e-01, 1.0000e+00, 5.4013e-08, 1.5165e-03],\n",
      "        [2.4524e-01, 9.9437e-01, 2.5167e-05, 5.4270e-03, 9.5161e-01, 7.6733e-08,\n",
      "         1.0543e-01, 1.0000e+00, 9.4959e-05, 1.7796e-05],\n",
      "        [2.0135e-05, 9.9948e-01, 9.8665e-01, 1.9981e-05, 2.8549e-02, 4.5960e-09,\n",
      "         9.9998e-01, 1.0000e+00, 3.3892e-03, 2.0742e-04],\n",
      "        [2.1305e-02, 9.9998e-01, 2.5532e-03, 1.8987e-04, 9.5057e-02, 4.3432e-12,\n",
      "         1.0000e+00, 1.0000e+00, 8.7353e-08, 1.0076e-02],\n",
      "        [9.9785e-01, 9.9919e-01, 3.5539e-01, 7.7085e-02, 4.3329e-02, 9.4477e-09,\n",
      "         8.7501e-01, 9.9990e-01, 1.5101e-06, 3.8902e-06],\n",
      "        [4.8315e-05, 8.9323e-01, 2.2338e-03, 1.4892e-04, 7.7992e-04, 3.9179e-11,\n",
      "         9.7088e-01, 9.9994e-01, 3.3554e-05, 4.6515e-04],\n",
      "        [9.9992e-01, 1.0000e+00, 9.6109e-01, 6.8158e-05, 4.4447e-01, 7.6204e-09,\n",
      "         7.6909e-02, 1.0000e+00, 6.1135e-08, 1.5980e-01],\n",
      "        [3.1101e-01, 9.0107e-03, 9.9997e-01, 1.8676e-03, 6.1973e-02, 2.5631e-07,\n",
      "         9.9990e-01, 1.0000e+00, 1.0700e-05, 4.5649e-04],\n",
      "        [3.1198e-02, 9.9999e-01, 2.4924e-04, 5.7065e-07, 2.4951e-05, 3.8402e-10,\n",
      "         8.6469e-01, 1.0000e+00, 7.2968e-08, 1.7764e-02],\n",
      "        [2.5902e-03, 1.0000e+00, 5.0674e-01, 5.8632e-09, 5.4978e-01, 3.1504e-08,\n",
      "         1.0000e+00, 9.9999e-01, 2.1492e-04, 1.5641e-03],\n",
      "        [3.2701e-02, 9.3601e-01, 4.7703e-03, 4.7238e-03, 5.8780e-07, 4.6484e-09,\n",
      "         9.7338e-01, 1.0000e+00, 5.8045e-07, 1.3165e-01],\n",
      "        [2.1370e-01, 1.0000e+00, 3.0505e-01, 1.9926e-07, 4.2902e-01, 3.8580e-09,\n",
      "         9.9567e-01, 9.9999e-01, 3.6999e-04, 1.2891e-06],\n",
      "        [5.7421e-02, 9.9975e-01, 9.4830e-03, 1.5110e-02, 4.2720e-02, 4.0972e-11,\n",
      "         9.9961e-01, 1.0000e+00, 3.3166e-06, 3.9813e-03],\n",
      "        [9.9658e-01, 9.9557e-01, 9.0717e-03, 1.8629e-10, 1.2218e-02, 2.5902e-06,\n",
      "         7.5330e-03, 9.9999e-01, 1.6670e-06, 6.5764e-05],\n",
      "        [4.4575e-02, 9.8407e-01, 8.6659e-01, 3.4015e-03, 8.1720e-01, 5.6874e-13,\n",
      "         5.7080e-01, 1.0000e+00, 5.0844e-05, 9.9820e-01],\n",
      "        [9.9177e-01, 9.9999e-01, 7.6674e-02, 1.4843e-05, 6.7905e-01, 5.6487e-08,\n",
      "         9.9148e-01, 1.0000e+00, 2.8151e-08, 1.3896e-02],\n",
      "        [2.4117e-05, 9.6650e-01, 2.6719e-02, 1.1040e-03, 3.7611e-03, 2.4846e-09,\n",
      "         9.9608e-01, 9.8734e-01, 1.8659e-05, 1.2393e-01],\n",
      "        [4.3787e-01, 6.7405e-01, 8.6745e-01, 1.3472e-08, 9.3597e-01, 8.2423e-07,\n",
      "         9.9977e-01, 1.0000e+00, 2.3302e-08, 1.1250e-03],\n",
      "        [2.1091e-06, 9.9990e-01, 1.7706e-02, 2.1161e-07, 1.2705e-02, 1.3066e-06,\n",
      "         9.9981e-01, 1.0000e+00, 6.4579e-06, 5.9295e-04],\n",
      "        [2.2548e-01, 9.9750e-01, 1.5914e-01, 9.7859e-09, 8.5310e-05, 3.9507e-10,\n",
      "         6.2674e-01, 9.9999e-01, 3.0383e-04, 2.2687e-07],\n",
      "        [1.0703e-05, 9.9900e-01, 3.4110e-02, 4.7186e-09, 2.2156e-01, 4.9545e-08,\n",
      "         2.8236e-02, 1.0000e+00, 3.5309e-06, 7.5866e-02],\n",
      "        [1.4455e-05, 9.1937e-01, 9.9988e-01, 1.0056e-05, 1.8267e-01, 1.4396e-09,\n",
      "         9.9754e-01, 1.0000e+00, 7.8606e-09, 5.3532e-01],\n",
      "        [2.7079e-05, 9.9959e-01, 5.2148e-01, 1.6568e-09, 3.6280e-04, 1.6044e-10,\n",
      "         9.7990e-01, 1.0000e+00, 2.2383e-08, 1.2637e-02],\n",
      "        [3.6448e-08, 4.1233e-01, 7.7902e-01, 3.6029e-08, 1.4036e-02, 3.8867e-08,\n",
      "         9.9850e-01, 1.0000e+00, 5.5598e-05, 3.2557e-04],\n",
      "        [4.6685e-03, 9.9987e-01, 2.9930e-04, 1.1530e-09, 6.6292e-02, 2.3864e-08,\n",
      "         7.7377e-04, 1.0000e+00, 3.0734e-07, 1.9400e-05],\n",
      "        [7.0345e-03, 9.4920e-01, 9.9557e-01, 3.8009e-06, 7.5211e-03, 9.6648e-09,\n",
      "         8.9707e-01, 1.0000e+00, 5.6588e-05, 9.8442e-01],\n",
      "        [1.9591e-02, 9.9933e-01, 2.2346e-01, 5.9703e-09, 3.8033e-05, 8.1949e-12,\n",
      "         9.8110e-01, 1.0000e+00, 6.8945e-02, 4.6457e-08],\n",
      "        [7.7365e-03, 9.9992e-01, 9.9999e-01, 3.2302e-04, 9.9000e-01, 1.2888e-12,\n",
      "         3.1341e-01, 1.0000e+00, 2.8975e-08, 9.3584e-04],\n",
      "        [4.2430e-03, 9.9794e-01, 9.0830e-01, 5.1016e-07, 2.3936e-01, 1.7312e-08,\n",
      "         1.0000e+00, 9.9184e-01, 2.6710e-02, 4.5042e-08],\n",
      "        [5.3406e-01, 9.9739e-01, 9.5035e-01, 3.1813e-06, 7.8165e-01, 2.6179e-06,\n",
      "         9.9999e-01, 9.9253e-01, 8.4484e-06, 1.0788e-05],\n",
      "        [7.5577e-02, 1.0000e+00, 9.2738e-01, 1.6879e-04, 9.8187e-01, 7.3598e-10,\n",
      "         9.9587e-01, 1.0000e+00, 2.4450e-07, 3.3838e-01],\n",
      "        [1.5197e-01, 1.0874e-01, 1.1284e-01, 1.5889e-06, 1.0477e-01, 3.9567e-06,\n",
      "         9.9993e-01, 1.0000e+00, 3.2265e-02, 1.2378e-06],\n",
      "        [9.9615e-01, 9.9957e-01, 6.3724e-01, 1.4227e-04, 7.6545e-03, 1.0677e-07,\n",
      "         9.9996e-01, 1.0000e+00, 3.7802e-03, 2.0635e-05],\n",
      "        [2.3350e-01, 9.9854e-01, 1.0000e+00, 1.7906e-02, 3.0108e-03, 9.6923e-11,\n",
      "         1.0000e+00, 9.9015e-01, 7.9445e-07, 8.1502e-04],\n",
      "        [1.9783e-04, 1.0000e+00, 3.2336e-01, 1.0891e-05, 3.8574e-02, 6.4136e-11,\n",
      "         9.5800e-05, 9.9998e-01, 1.3450e-07, 4.5549e-03],\n",
      "        [9.6322e-03, 9.9997e-01, 8.7219e-01, 1.3357e-04, 2.8078e-02, 6.3172e-10,\n",
      "         2.2178e-01, 1.0000e+00, 1.3861e-07, 2.7292e-01],\n",
      "        [4.7642e-06, 9.9973e-01, 1.1040e-02, 7.0318e-04, 8.6515e-01, 3.7825e-10,\n",
      "         9.9770e-01, 1.0000e+00, 4.3067e-05, 9.9697e-01],\n",
      "        [9.9955e-01, 1.0000e+00, 1.3569e-04, 2.8987e-04, 2.1156e-02, 5.2570e-08,\n",
      "         9.9926e-01, 1.0000e+00, 1.2652e-09, 8.6739e-04],\n",
      "        [1.7276e-02, 9.2631e-01, 7.6698e-03, 1.6279e-06, 9.7352e-02, 2.5846e-09,\n",
      "         6.5712e-04, 1.0000e+00, 1.8511e-04, 2.1418e-06],\n",
      "        [9.4397e-03, 9.2898e-01, 1.5760e-01, 1.5005e-01, 2.6636e-02, 6.7479e-10,\n",
      "         9.9931e-01, 9.9994e-01, 1.3330e-06, 9.3902e-01],\n",
      "        [9.9685e-01, 9.9046e-01, 9.9988e-01, 3.0569e-07, 5.3577e-01, 7.2409e-09,\n",
      "         9.8821e-01, 9.9959e-01, 4.7835e-05, 2.0377e-02],\n",
      "        [2.6501e-01, 2.5635e-01, 2.9260e-04, 6.8864e-07, 8.8636e-02, 3.0688e-08,\n",
      "         9.3448e-01, 1.0000e+00, 1.1893e-06, 7.3427e-01],\n",
      "        [3.0186e-01, 1.0000e+00, 2.9198e-02, 1.3919e-03, 1.0358e-07, 3.2344e-08,\n",
      "         9.9998e-01, 1.0000e+00, 2.2538e-08, 3.0617e-04],\n",
      "        [3.6556e-03, 5.0745e-01, 5.0951e-01, 1.3592e-04, 4.4311e-01, 4.3791e-12,\n",
      "         3.9466e-02, 9.9999e-01, 3.4751e-05, 3.9680e-01],\n",
      "        [3.4075e-06, 1.0000e+00, 5.0699e-02, 1.1304e-09, 1.5335e-04, 1.6392e-08,\n",
      "         9.8531e-01, 1.0000e+00, 9.5144e-08, 7.9849e-03],\n",
      "        [1.6093e-01, 1.0000e+00, 7.7487e-03, 1.3516e-08, 9.0862e-04, 1.6535e-07,\n",
      "         4.4416e-05, 4.6855e-01, 1.1782e-06, 3.3426e-06],\n",
      "        [3.1731e-02, 6.9979e-02, 8.1412e-01, 1.1773e-08, 4.5689e-01, 5.5775e-12,\n",
      "         4.1972e-02, 1.0000e+00, 5.1662e-03, 1.7244e-04]])\n"
     ]
    }
   ],
   "source": [
    "## Your solution\n",
    "n_in = images.view(images.shape[0], -1)\n",
    "n_hid = 256\n",
    "n_out = 10\n",
    "\n",
    "\n",
    "def sigmoid(x):\n",
    "    return 1 / (1+torch.exp(-x))\n",
    "\n",
    "w1 = torch.randn((n_in[1].shape[0], n_hid))\n",
    "b1 = torch.randn((n_hid))\n",
    "w2 = torch.randn((n_hid, n_out))\n",
    "b2 = torch.randn((n_out))\n",
    "\n",
    "\n",
    "h = sigmoid(torch.mm(n_in, w1) + b1)\n",
    "\n",
    "out = sigmoid(torch.mm(h, w2) + b2)\n",
    "print(out.shape)\n",
    "print(out)"
   ]
  },
  {
   "cell_type": "markdown",
   "metadata": {},
   "source": [
    "Now we have 10 outputs for our network. We want to pass in an image to our network and get out a probability distribution over the classes that tells us the likely class(es) the image belongs to. Something that looks like this:\n",
    "<img src='assets/image_distribution.png' width=500px>\n",
    "\n",
    "Here we see that the probability for each class is roughly the same. This is representing an untrained network, it hasn't seen any data yet so it just returns a uniform distribution with equal probabilities for each class.\n",
    "\n",
    "To calculate this probability distribution, we often use the [**softmax** function](https://en.wikipedia.org/wiki/Softmax_function). Mathematically this looks like\n",
    "\n",
    "$$\n",
    "\\Large \\sigma(x_i) = \\cfrac{e^{x_i}}{\\sum_k^K{e^{x_k}}}\n",
    "$$\n",
    "\n",
    "What this does is squish each input $x_i$ between 0 and 1 and normalizes the values to give you a proper probability distribution where the probabilites sum up to one.\n",
    "\n",
    "> **Exercise:** Implement a function `softmax` that performs the softmax calculation and returns probability distributions for each example in the batch. Note that you'll need to pay attention to the shapes when doing this. If you have a tensor `a` with shape `(64, 10)` and a tensor `b` with shape `(64,)`, doing `a/b` will give you an error because PyTorch will try to do the division across the columns (called broadcasting) but you'll get a size mismatch. The way to think about this is for each of the 64 examples, you only want to divide by one value, the sum in the denominator. So you need `b` to have a shape of `(64, 1)`. This way PyTorch will divide the 10 values in each row of `a` by the one value in each row of `b`. Pay attention to how you take the sum as well. You'll need to define the `dim` keyword in `torch.sum`. Setting `dim=0` takes the sum across the rows while `dim=1` takes the sum across the columns."
   ]
  },
  {
   "cell_type": "code",
   "execution_count": 25,
   "metadata": {},
   "outputs": [
    {
     "data": {
      "text/plain": [
       "torch.Size([64, 10])"
      ]
     },
     "execution_count": 25,
     "metadata": {},
     "output_type": "execute_result"
    }
   ],
   "source": [
    "b = np.exp(out)\n",
    "b.shape"
   ]
  },
  {
   "cell_type": "code",
   "execution_count": 26,
   "metadata": {},
   "outputs": [
    {
     "name": "stdout",
     "output_type": "stream",
     "text": [
      "torch.Size([64])\n"
     ]
    }
   ],
   "source": [
    "c = torch.sum(np.exp(out), 1)\n",
    "print(c.shape)\n",
    "b/c.view(64,1);"
   ]
  },
  {
   "cell_type": "code",
   "execution_count": 27,
   "metadata": {},
   "outputs": [
    {
     "name": "stdout",
     "output_type": "stream",
     "text": [
      "torch.Size([64, 10])\n",
      "tensor([1.0000, 1.0000, 1.0000, 1.0000, 1.0000, 1.0000, 1.0000, 1.0000, 1.0000,\n",
      "        1.0000, 1.0000, 1.0000, 1.0000, 1.0000, 1.0000, 1.0000, 1.0000, 1.0000,\n",
      "        1.0000, 1.0000, 1.0000, 1.0000, 1.0000, 1.0000, 1.0000, 1.0000, 1.0000,\n",
      "        1.0000, 1.0000, 1.0000, 1.0000, 1.0000, 1.0000, 1.0000, 1.0000, 1.0000,\n",
      "        1.0000, 1.0000, 1.0000, 1.0000, 1.0000, 1.0000, 1.0000, 1.0000, 1.0000,\n",
      "        1.0000, 1.0000, 1.0000, 1.0000, 1.0000, 1.0000, 1.0000, 1.0000, 1.0000,\n",
      "        1.0000, 1.0000, 1.0000, 1.0000, 1.0000, 1.0000, 1.0000, 1.0000, 1.0000,\n",
      "        1.0000])\n"
     ]
    }
   ],
   "source": [
    "def softmax(x):\n",
    "    ## TODO: Implement the softmax function here\n",
    "    return torch.exp(x) / (torch.sum(torch.exp(x), dim=1).view(64,1))\n",
    "\n",
    "# Here, out should be the output of the network in the previous excercise with shape (64,10)\n",
    "probabilities = softmax(out)\n",
    "# Does it have the right shape? Should be (64, 10)\n",
    "print(probabilities.shape)\n",
    "# Does it sum to 1?\n",
    "print(probabilities.sum(dim=1))"
   ]
  },
  {
   "cell_type": "markdown",
   "metadata": {},
   "source": [
    "## Building networks with PyTorch\n",
    "\n",
    "PyTorch provides a module `nn` that makes building networks much simpler. Here I'll show you how to build the same one as above with 784 inputs, 256 hidden units, 10 output units and a softmax output."
   ]
  },
  {
   "cell_type": "code",
   "execution_count": 28,
   "metadata": {},
   "outputs": [],
   "source": [
    "from torch import nn"
   ]
  },
  {
   "cell_type": "code",
   "execution_count": 29,
   "metadata": {},
   "outputs": [],
   "source": [
    "class Network(nn.Module):\n",
    "    def __init__(self):\n",
    "        super().__init__()\n",
    "        \n",
    "        # Inputs to hidden layer linear transformation\n",
    "        self.hidden = nn.Linear(784, 256)\n",
    "        # Output layer, 10 units - one for each digit\n",
    "        self.output = nn.Linear(256, 10)\n",
    "        \n",
    "        # Define sigmoid activation and softmax output \n",
    "        self.sigmoid = nn.Sigmoid()\n",
    "        self.softmax = nn.Softmax(dim=1)\n",
    "        \n",
    "    def forward(self, x):\n",
    "        # Pass the input tensor through each of our operations\n",
    "        x = self.hidden(x)\n",
    "        x = self.sigmoid(x)\n",
    "        x = self.output(x)\n",
    "        x = self.softmax(x)\n",
    "        \n",
    "        return x"
   ]
  },
  {
   "cell_type": "markdown",
   "metadata": {},
   "source": [
    "Let's go through this bit by bit.\n",
    "\n",
    "```python\n",
    "class Network(nn.Module):\n",
    "```\n",
    "\n",
    "Here we're inheriting from `nn.Module`. Combined with `super().__init__()` this creates a class that tracks the architecture and provides a lot of useful methods and attributes. It is mandatory to inherit from `nn.Module` when you're creating a class for your network. The name of the class itself can be anything.\n",
    "\n",
    "```python\n",
    "self.hidden = nn.Linear(784, 256)\n",
    "```\n",
    "\n",
    "This line creates a module for a linear transformation, $x\\mathbf{W} + b$, with 784 inputs and 256 outputs and assigns it to `self.hidden`. The module automatically creates the weight and bias tensors which we'll use in the `forward` method. You can access the weight and bias tensors once the network (`net`) is created with `net.hidden.weight` and `net.hidden.bias`.\n",
    "\n",
    "```python\n",
    "self.output = nn.Linear(256, 10)\n",
    "```\n",
    "\n",
    "Similarly, this creates another linear transformation with 256 inputs and 10 outputs.\n",
    "\n",
    "```python\n",
    "self.sigmoid = nn.Sigmoid()\n",
    "self.softmax = nn.Softmax(dim=1)\n",
    "```\n",
    "\n",
    "Here I defined operations for the sigmoid activation and softmax output. Setting `dim=1` in `nn.Softmax(dim=1)` calculates softmax across the columns.\n",
    "\n",
    "```python\n",
    "def forward(self, x):\n",
    "```\n",
    "\n",
    "PyTorch networks created with `nn.Module` must have a `forward` method defined. It takes in a tensor `x` and passes it through the operations you defined in the `__init__` method.\n",
    "\n",
    "```python\n",
    "x = self.hidden(x)\n",
    "x = self.sigmoid(x)\n",
    "x = self.output(x)\n",
    "x = self.softmax(x)\n",
    "```\n",
    "\n",
    "Here the input tensor `x` is passed through each operation and reassigned to `x`. We can see that the input tensor goes through the hidden layer, then a sigmoid function, then the output layer, and finally the softmax function. It doesn't matter what you name the variables here, as long as the inputs and outputs of the operations match the network architecture you want to build. The order in which you define things in the `__init__` method doesn't matter, but you'll need to sequence the operations correctly in the `forward` method.\n",
    "\n",
    "Now we can create a `Network` object."
   ]
  },
  {
   "cell_type": "code",
   "execution_count": 30,
   "metadata": {},
   "outputs": [
    {
     "data": {
      "text/plain": [
       "Network(\n",
       "  (hidden): Linear(in_features=784, out_features=256, bias=True)\n",
       "  (output): Linear(in_features=256, out_features=10, bias=True)\n",
       "  (sigmoid): Sigmoid()\n",
       "  (softmax): Softmax(dim=1)\n",
       ")"
      ]
     },
     "execution_count": 30,
     "metadata": {},
     "output_type": "execute_result"
    }
   ],
   "source": [
    "# Create the network and look at it's text representation\n",
    "model = Network()\n",
    "model"
   ]
  },
  {
   "cell_type": "markdown",
   "metadata": {},
   "source": [
    "You can define the network somewhat more concisely and clearly using the `torch.nn.functional` module. This is the most common way you'll see networks defined as many operations are simple element-wise functions. We normally import this module as `F`, `import torch.nn.functional as F`."
   ]
  },
  {
   "cell_type": "code",
   "execution_count": 31,
   "metadata": {},
   "outputs": [],
   "source": [
    "import torch.nn.functional as F\n",
    "\n",
    "class Network(nn.Module):\n",
    "    def __init__(self):\n",
    "        super().__init__()\n",
    "        # Inputs to hidden layer linear transformation\n",
    "        self.hidden = nn.Linear(784, 256)\n",
    "        # Output layer, 10 units - one for each digit\n",
    "        self.output = nn.Linear(256, 10)\n",
    "        \n",
    "    def forward(self, x):\n",
    "        # Hidden layer with sigmoid activation\n",
    "        x = F.sigmoid(self.hidden(x))\n",
    "        # Output layer with softmax activation\n",
    "        x = F.softmax(self.output(x), dim=1)\n",
    "        \n",
    "        return x"
   ]
  },
  {
   "cell_type": "markdown",
   "metadata": {},
   "source": [
    "### Activation functions\n",
    "\n",
    "So far we've only been looking at the sigmoid activation function, but in general any function can be used as an activation function. The only requirement is that for a network to approximate a non-linear function, the activation functions must be non-linear. Here are a few more examples of common activation functions: Tanh (hyperbolic tangent), and ReLU (rectified linear unit).\n",
    "\n",
    "<img src=\"assets/activation.png\" width=700px>\n",
    "\n",
    "In practice, the ReLU function is used almost exclusively as the activation function for hidden layers."
   ]
  },
  {
   "cell_type": "markdown",
   "metadata": {},
   "source": [
    "### Your Turn to Build a Network\n",
    "\n",
    "<img src=\"assets/mlp_mnist.png\" width=600px>\n",
    "\n",
    "> **Exercise:** Create a network with 784 input units, a hidden layer with 128 units and a ReLU activation, then a hidden layer with 64 units and a ReLU activation, and finally an output layer with a softmax activation as shown above. You can use a ReLU activation with the `nn.ReLU` module or `F.relu` function.\n",
    "\n",
    "It's good practice to name your layers by their type of network, for instance 'fc' to represent a fully-connected layer. As you code your solution, use `fc1`, `fc2`, and `fc3` as your layer names."
   ]
  },
  {
   "cell_type": "code",
   "execution_count": 32,
   "metadata": {
    "scrolled": true
   },
   "outputs": [
    {
     "data": {
      "text/plain": [
       "Network(\n",
       "  (fc1): Linear(in_features=784, out_features=128, bias=True)\n",
       "  (fc2): Linear(in_features=128, out_features=64, bias=True)\n",
       "  (fc3): Linear(in_features=64, out_features=10, bias=True)\n",
       ")"
      ]
     },
     "execution_count": 32,
     "metadata": {},
     "output_type": "execute_result"
    }
   ],
   "source": [
    "## Your solution here\n",
    "import torch.nn.functional as F\n",
    "\n",
    "class Network(nn.Module):\n",
    "    def __init__(self):\n",
    "        super().__init__()\n",
    "        self.fc1 = nn.Linear(784, 128)\n",
    "        self.fc2 = nn.Linear(128, 64)\n",
    "        self.fc3 = nn.Linear(64, 10)\n",
    "        \n",
    "    def forward(self, x):\n",
    "        x = F.relu(self.fc1(x))\n",
    "        x = F.relu(self.fc2(x))\n",
    "        x = F.softmax(self.fc3(x), dim = 1)\n",
    "        \n",
    "model = Network()\n",
    "model"
   ]
  },
  {
   "cell_type": "markdown",
   "metadata": {},
   "source": [
    "### Initializing weights and biases\n",
    "\n",
    "The weights and such are automatically initialized for you, but it's possible to customize how they are initialized. The weights and biases are tensors attached to the layer you defined, you can get them with `model.fc1.weight` for instance."
   ]
  },
  {
   "cell_type": "code",
   "execution_count": 33,
   "metadata": {},
   "outputs": [
    {
     "name": "stdout",
     "output_type": "stream",
     "text": [
      "Parameter containing:\n",
      "tensor([[-0.0153,  0.0166,  0.0057,  ...,  0.0115,  0.0050, -0.0321],\n",
      "        [ 0.0287, -0.0312,  0.0300,  ...,  0.0234,  0.0140, -0.0095],\n",
      "        [ 0.0304,  0.0234, -0.0106,  ..., -0.0132, -0.0209, -0.0210],\n",
      "        ...,\n",
      "        [-0.0114,  0.0108,  0.0103,  ..., -0.0173,  0.0188,  0.0350],\n",
      "        [ 0.0311,  0.0284, -0.0333,  ..., -0.0260, -0.0329, -0.0195],\n",
      "        [ 0.0257,  0.0115, -0.0209,  ...,  0.0118,  0.0171,  0.0262]],\n",
      "       requires_grad=True)\n",
      "Parameter containing:\n",
      "tensor([-0.0053, -0.0120, -0.0167,  0.0134, -0.0261,  0.0356, -0.0247, -0.0178,\n",
      "         0.0321, -0.0053,  0.0163, -0.0240, -0.0117,  0.0220, -0.0260, -0.0251,\n",
      "        -0.0040, -0.0094, -0.0290,  0.0257,  0.0313, -0.0333, -0.0077, -0.0266,\n",
      "        -0.0327, -0.0346, -0.0026,  0.0125, -0.0268,  0.0278,  0.0071,  0.0198,\n",
      "        -0.0295,  0.0257,  0.0010, -0.0007,  0.0257,  0.0191,  0.0127, -0.0114,\n",
      "        -0.0125,  0.0230,  0.0177,  0.0185,  0.0087, -0.0189, -0.0149, -0.0310,\n",
      "        -0.0215,  0.0032, -0.0218,  0.0210,  0.0004, -0.0293,  0.0065,  0.0165,\n",
      "        -0.0111, -0.0065,  0.0119,  0.0113, -0.0116,  0.0205,  0.0181,  0.0127,\n",
      "        -0.0086,  0.0046,  0.0271,  0.0209, -0.0212,  0.0133,  0.0278,  0.0227,\n",
      "         0.0093,  0.0250,  0.0261, -0.0285,  0.0221,  0.0099,  0.0239, -0.0149,\n",
      "         0.0024,  0.0210, -0.0087,  0.0314, -0.0066, -0.0083,  0.0135,  0.0114,\n",
      "         0.0144, -0.0016,  0.0259,  0.0266,  0.0196,  0.0022,  0.0211, -0.0173,\n",
      "         0.0274,  0.0313,  0.0156,  0.0117, -0.0345, -0.0267,  0.0029,  0.0274,\n",
      "         0.0012,  0.0151,  0.0125, -0.0262,  0.0172,  0.0114, -0.0125, -0.0065,\n",
      "        -0.0044, -0.0163,  0.0172, -0.0183, -0.0276, -0.0246,  0.0165,  0.0241,\n",
      "        -0.0200, -0.0060,  0.0204, -0.0103, -0.0038,  0.0051, -0.0073,  0.0012],\n",
      "       requires_grad=True)\n"
     ]
    }
   ],
   "source": [
    "print(model.fc1.weight)\n",
    "print(model.fc1.bias)"
   ]
  },
  {
   "cell_type": "markdown",
   "metadata": {},
   "source": [
    "For custom initialization, we want to modify these tensors in place. These are actually autograd *Variables*, so we need to get back the actual tensors with `model.fc1.weight.data`. Once we have the tensors, we can fill them with zeros (for biases) or random normal values."
   ]
  },
  {
   "cell_type": "code",
   "execution_count": 34,
   "metadata": {},
   "outputs": [
    {
     "data": {
      "text/plain": [
       "tensor([0., 0., 0., 0., 0., 0., 0., 0., 0., 0., 0., 0., 0., 0., 0., 0., 0., 0., 0., 0., 0., 0., 0., 0.,\n",
       "        0., 0., 0., 0., 0., 0., 0., 0., 0., 0., 0., 0., 0., 0., 0., 0., 0., 0., 0., 0., 0., 0., 0., 0.,\n",
       "        0., 0., 0., 0., 0., 0., 0., 0., 0., 0., 0., 0., 0., 0., 0., 0., 0., 0., 0., 0., 0., 0., 0., 0.,\n",
       "        0., 0., 0., 0., 0., 0., 0., 0., 0., 0., 0., 0., 0., 0., 0., 0., 0., 0., 0., 0., 0., 0., 0., 0.,\n",
       "        0., 0., 0., 0., 0., 0., 0., 0., 0., 0., 0., 0., 0., 0., 0., 0., 0., 0., 0., 0., 0., 0., 0., 0.,\n",
       "        0., 0., 0., 0., 0., 0., 0., 0.])"
      ]
     },
     "execution_count": 34,
     "metadata": {},
     "output_type": "execute_result"
    }
   ],
   "source": [
    "# Set biases to all zeros\n",
    "model.fc1.bias.data.fill_(0)"
   ]
  },
  {
   "cell_type": "code",
   "execution_count": 35,
   "metadata": {},
   "outputs": [
    {
     "data": {
      "text/plain": [
       "tensor([[-0.0030, -0.0025,  0.0025,  ..., -0.0058, -0.0121,  0.0048],\n",
       "        [ 0.0011, -0.0080,  0.0091,  ...,  0.0135, -0.0125, -0.0090],\n",
       "        [ 0.0192, -0.0180, -0.0016,  ...,  0.0017,  0.0153, -0.0112],\n",
       "        ...,\n",
       "        [ 0.0071,  0.0096,  0.0049,  ..., -0.0003,  0.0061,  0.0172],\n",
       "        [-0.0072, -0.0176,  0.0036,  ...,  0.0049, -0.0110, -0.0104],\n",
       "        [ 0.0125,  0.0062, -0.0241,  ...,  0.0141, -0.0059,  0.0099]])"
      ]
     },
     "execution_count": 35,
     "metadata": {},
     "output_type": "execute_result"
    }
   ],
   "source": [
    "# sample from random normal with standard dev = 0.01\n",
    "model.fc1.weight.data.normal_(std=0.01)"
   ]
  },
  {
   "cell_type": "markdown",
   "metadata": {},
   "source": [
    "### Forward pass\n",
    "\n",
    "Now that we have a network, let's see what happens when we pass in an image."
   ]
  },
  {
   "cell_type": "code",
   "execution_count": 36,
   "metadata": {},
   "outputs": [
    {
     "ename": "AttributeError",
     "evalue": "'NoneType' object has no attribute 'data'",
     "output_type": "error",
     "traceback": [
      "\u001b[1;31m---------------------------------------------------------------------------\u001b[0m",
      "\u001b[1;31mAttributeError\u001b[0m                            Traceback (most recent call last)",
      "\u001b[1;32m<ipython-input-36-3760ccc5c3dd>\u001b[0m in \u001b[0;36m<module>\u001b[1;34m\u001b[0m\n\u001b[0;32m     12\u001b[0m \u001b[1;33m\u001b[0m\u001b[0m\n\u001b[0;32m     13\u001b[0m \u001b[0mimg\u001b[0m \u001b[1;33m=\u001b[0m \u001b[0mimages\u001b[0m\u001b[1;33m[\u001b[0m\u001b[0mimg_idx\u001b[0m\u001b[1;33m]\u001b[0m\u001b[1;33m\u001b[0m\u001b[1;33m\u001b[0m\u001b[0m\n\u001b[1;32m---> 14\u001b[1;33m \u001b[0mhelper\u001b[0m\u001b[1;33m.\u001b[0m\u001b[0mview_classify\u001b[0m\u001b[1;33m(\u001b[0m\u001b[0mimg\u001b[0m\u001b[1;33m.\u001b[0m\u001b[0mview\u001b[0m\u001b[1;33m(\u001b[0m\u001b[1;36m1\u001b[0m\u001b[1;33m,\u001b[0m \u001b[1;36m28\u001b[0m\u001b[1;33m,\u001b[0m \u001b[1;36m28\u001b[0m\u001b[1;33m)\u001b[0m\u001b[1;33m,\u001b[0m \u001b[0mps\u001b[0m\u001b[1;33m)\u001b[0m\u001b[1;33m\u001b[0m\u001b[1;33m\u001b[0m\u001b[0m\n\u001b[0m",
      "\u001b[1;32m~\\documents\\udacity-notebooks\\p5-neural-networks\\p5l4-deep-learning-v2-pytorch\\intro-to-pytorch\\helper.py\u001b[0m in \u001b[0;36mview_classify\u001b[1;34m(img, ps, version)\u001b[0m\n\u001b[0;32m     68\u001b[0m     ''' Function for viewing an image and it's predicted classes.\n\u001b[0;32m     69\u001b[0m     '''\n\u001b[1;32m---> 70\u001b[1;33m     \u001b[0mps\u001b[0m \u001b[1;33m=\u001b[0m \u001b[0mps\u001b[0m\u001b[1;33m.\u001b[0m\u001b[0mdata\u001b[0m\u001b[1;33m.\u001b[0m\u001b[0mnumpy\u001b[0m\u001b[1;33m(\u001b[0m\u001b[1;33m)\u001b[0m\u001b[1;33m.\u001b[0m\u001b[0msqueeze\u001b[0m\u001b[1;33m(\u001b[0m\u001b[1;33m)\u001b[0m\u001b[1;33m\u001b[0m\u001b[1;33m\u001b[0m\u001b[0m\n\u001b[0m\u001b[0;32m     71\u001b[0m \u001b[1;33m\u001b[0m\u001b[0m\n\u001b[0;32m     72\u001b[0m     \u001b[0mfig\u001b[0m\u001b[1;33m,\u001b[0m \u001b[1;33m(\u001b[0m\u001b[0max1\u001b[0m\u001b[1;33m,\u001b[0m \u001b[0max2\u001b[0m\u001b[1;33m)\u001b[0m \u001b[1;33m=\u001b[0m \u001b[0mplt\u001b[0m\u001b[1;33m.\u001b[0m\u001b[0msubplots\u001b[0m\u001b[1;33m(\u001b[0m\u001b[0mfigsize\u001b[0m\u001b[1;33m=\u001b[0m\u001b[1;33m(\u001b[0m\u001b[1;36m6\u001b[0m\u001b[1;33m,\u001b[0m\u001b[1;36m9\u001b[0m\u001b[1;33m)\u001b[0m\u001b[1;33m,\u001b[0m \u001b[0mncols\u001b[0m\u001b[1;33m=\u001b[0m\u001b[1;36m2\u001b[0m\u001b[1;33m)\u001b[0m\u001b[1;33m\u001b[0m\u001b[1;33m\u001b[0m\u001b[0m\n",
      "\u001b[1;31mAttributeError\u001b[0m: 'NoneType' object has no attribute 'data'"
     ]
    }
   ],
   "source": [
    "# Grab some data \n",
    "dataiter = iter(trainloader)\n",
    "images, labels = dataiter.next()\n",
    "\n",
    "# Resize images into a 1D vector, new shape is (batch size, color channels, image pixels) \n",
    "images.resize_(64, 1, 784)\n",
    "# or images.resize_(images.shape[0], 1, 784) to automatically get batch size\n",
    "\n",
    "# Forward pass through the network\n",
    "img_idx = 0\n",
    "ps = model.forward(images[img_idx,:])\n",
    "\n",
    "img = images[img_idx]\n",
    "helper.view_classify(img.view(1, 28, 28), ps)"
   ]
  },
  {
   "cell_type": "markdown",
   "metadata": {},
   "source": [
    "As you can see above, our network has basically no idea what this digit is. It's because we haven't trained it yet, all the weights are random!\n",
    "\n",
    "### Using `nn.Sequential`\n",
    "\n",
    "PyTorch provides a convenient way to build networks like this where a tensor is passed sequentially through operations, `nn.Sequential` ([documentation](https://pytorch.org/docs/master/nn.html#torch.nn.Sequential)). Using this to build the equivalent network:"
   ]
  },
  {
   "cell_type": "code",
   "execution_count": 39,
   "metadata": {},
   "outputs": [
    {
     "name": "stdout",
     "output_type": "stream",
     "text": [
      "Sequential(\n",
      "  (0): Linear(in_features=784, out_features=128, bias=True)\n",
      "  (1): ReLU()\n",
      "  (2): Linear(in_features=128, out_features=64, bias=True)\n",
      "  (3): ReLU()\n",
      "  (4): Linear(in_features=64, out_features=10, bias=True)\n",
      "  (5): Softmax(dim=1)\n",
      ")\n"
     ]
    },
    {
     "data": {
      "image/png": "[encoded data removed]",
      "text/plain": [
       "<Figure size 432x648 with 2 Axes>"
      ]
     },
     "metadata": {
      "image/png": {
       "height": 235,
       "width": 424
      },
      "needs_background": "light"
     },
     "output_type": "display_data"
    }
   ],
   "source": [
    "# Hyperparameters for our network\n",
    "input_size = 784\n",
    "hidden_sizes = [128, 64]\n",
    "output_size = 10\n",
    "\n",
    "# Build a feed-forward network\n",
    "model = nn.Sequential(nn.Linear(input_size, hidden_sizes[0]),\n",
    "                      nn.ReLU(),\n",
    "                      nn.Linear(hidden_sizes[0], hidden_sizes[1]),\n",
    "                      nn.ReLU(),\n",
    "                      nn.Linear(hidden_sizes[1], output_size),\n",
    "                      nn.Softmax(dim=1))\n",
    "print(model)\n",
    "\n",
    "# Forward pass through the network and display output\n",
    "images, labels = next(iter(trainloader))\n",
    "images.resize_(images.shape[0], 1, 784)\n",
    "ps = model.forward(images[0,:])\n",
    "helper.view_classify(images[0].view(1, 28, 28), ps)"
   ]
  },
  {
   "cell_type": "markdown",
   "metadata": {},
   "source": [
    "Here our model is the same as before: 784 input units, a hidden layer with 128 units, ReLU activation, 64 unit hidden layer, another ReLU, then the output layer with 10 units, and the softmax output.\n",
    "\n",
    "The operations are available by passing in the appropriate index. For example, if you want to get first Linear operation and look at the weights, you'd use `model[0]`."
   ]
  },
  {
   "cell_type": "code",
   "execution_count": 41,
   "metadata": {},
   "outputs": [
    {
     "name": "stdout",
     "output_type": "stream",
     "text": [
      "Linear(in_features=784, out_features=128, bias=True)\n"
     ]
    },
    {
     "data": {
      "text/plain": [
       "Parameter containing:\n",
       "tensor([[-0.0273, -0.0016, -0.0269,  ..., -0.0120,  0.0191, -0.0167],\n",
       "        [-0.0072, -0.0183,  0.0228,  ..., -0.0138, -0.0159, -0.0183],\n",
       "        [ 0.0104,  0.0139, -0.0302,  ..., -0.0121,  0.0086, -0.0334],\n",
       "        ...,\n",
       "        [-0.0135, -0.0052, -0.0345,  ...,  0.0285, -0.0157, -0.0213],\n",
       "        [-0.0071, -0.0050,  0.0038,  ..., -0.0284,  0.0242,  0.0131],\n",
       "        [-0.0113, -0.0008, -0.0057,  ..., -0.0175,  0.0053, -0.0003]],\n",
       "       requires_grad=True)"
      ]
     },
     "execution_count": 41,
     "metadata": {},
     "output_type": "execute_result"
    }
   ],
   "source": [
    "print(model[0])\n",
    "model[0].weight"
   ]
  },
  {
   "cell_type": "markdown",
   "metadata": {},
   "source": [
    "You can also pass in an `OrderedDict` to name the individual layers and operations, instead of using incremental integers. Note that dictionary keys must be unique, so _each operation must have a different name_."
   ]
  },
  {
   "cell_type": "code",
   "execution_count": 42,
   "metadata": {},
   "outputs": [
    {
     "data": {
      "text/plain": [
       "Sequential(\n",
       "  (fc1): Linear(in_features=784, out_features=128, bias=True)\n",
       "  (relu1): ReLU()\n",
       "  (fc2): Linear(in_features=128, out_features=64, bias=True)\n",
       "  (relu2): ReLU()\n",
       "  (output): Linear(in_features=64, out_features=10, bias=True)\n",
       "  (softmax): Softmax(dim=1)\n",
       ")"
      ]
     },
     "execution_count": 42,
     "metadata": {},
     "output_type": "execute_result"
    }
   ],
   "source": [
    "from collections import OrderedDict\n",
    "model = nn.Sequential(OrderedDict([\n",
    "                      ('fc1', nn.Linear(input_size, hidden_sizes[0])),\n",
    "                      ('relu1', nn.ReLU()),\n",
    "                      ('fc2', nn.Linear(hidden_sizes[0], hidden_sizes[1])),\n",
    "                      ('relu2', nn.ReLU()),\n",
    "                      ('output', nn.Linear(hidden_sizes[1], output_size)),\n",
    "                      ('softmax', nn.Softmax(dim=1))]))\n",
    "model"
   ]
  },
  {
   "cell_type": "markdown",
   "metadata": {},
   "source": [
    "Now you can access layers either by integer or the name"
   ]
  },
  {
   "cell_type": "code",
   "execution_count": 43,
   "metadata": {},
   "outputs": [
    {
     "name": "stdout",
     "output_type": "stream",
     "text": [
      "Linear(in_features=784, out_features=128, bias=True)\n",
      "Linear(in_features=784, out_features=128, bias=True)\n"
     ]
    }
   ],
   "source": [
    "print(model[0])\n",
    "print(model.fc1)"
   ]
  },
  {
   "cell_type": "markdown",
   "metadata": {},
   "source": [
    "In the next notebook, we'll see how we can train a neural network to accuractly predict the numbers appearing in the MNIST images."
   ]
  },
  {
   "cell_type": "code",
   "execution_count": 44,
   "metadata": {},
   "outputs": [
    {
     "data": {
      "text/plain": [
       "True"
      ]
     },
     "execution_count": 44,
     "metadata": {},
     "output_type": "execute_result"
    }
   ],
   "source": [
    "torch.cuda.is_available()"
   ]
  },
  {
   "cell_type": "code",
   "execution_count": null,
   "metadata": {},
   "outputs": [],
   "source": []
  }
 ],
 "metadata": {
  "kernelspec": {
   "display_name": "Python 3",
   "language": "python",
   "name": "python3"
  },
  "language_info": {
   "codemirror_mode": {
    "name": "ipython",
    "version": 3
   },
   "file_extension": ".py",
   "mimetype": "text/x-python",
   "name": "python",
   "nbconvert_exporter": "python",
   "pygments_lexer": "ipython3",
   "version": "3.8.8"
  }
 },
 "nbformat": 4,
 "nbformat_minor": 2
}
