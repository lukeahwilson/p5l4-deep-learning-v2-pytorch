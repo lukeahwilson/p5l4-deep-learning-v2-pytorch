{
 "cells": [
  {
   "cell_type": "markdown",
   "metadata": {},
   "source": [
    "# Neural networks with PyTorch\n",
    "\n",
    "Deep learning networks tend to be massive with dozens or hundreds of layers, that's where the term \"deep\" comes from. You can build one of these deep networks using only weight matrices as we did in the previous notebook, but in general it's very cumbersome and difficult to implement. PyTorch has a nice module `nn` that provides a nice way to efficiently build large neural networks."
   ]
  },
  {
   "cell_type": "code",
   "execution_count": 1,
   "metadata": {},
   "outputs": [],
   "source": [
    "# Import necessary packages\n",
    "\n",
    "%matplotlib inline\n",
    "%config InlineBackend.figure_format = 'retina'\n",
    "\n",
    "import numpy as np\n",
    "import torch\n",
    "\n",
    "import helper\n",
    "\n",
    "import matplotlib.pyplot as plt"
   ]
  },
  {
   "cell_type": "markdown",
   "metadata": {},
   "source": [
    "\n",
    "Now we're going to build a larger network that can solve a (formerly) difficult problem, identifying text in an image. Here we'll use the MNIST dataset which consists of greyscale handwritten digits. Each image is 28x28 pixels, you can see a sample below\n",
    "\n",
    "<img src='assets/mnist.png'>\n",
    "\n",
    "Our goal is to build a neural network that can take one of these images and predict the digit in the image.\n",
    "\n",
    "First up, we need to get our dataset. This is provided through the `torchvision` package. The code below will download the MNIST dataset, then create training and test datasets for us. Don't worry too much about the details here, you'll learn more about this later."
   ]
  },
  {
   "cell_type": "code",
   "execution_count": 2,
   "metadata": {},
   "outputs": [
    {
     "name": "stdout",
     "output_type": "stream",
     "text": [
      "1\n"
     ]
    }
   ],
   "source": [
    "# The MNIST datasets are hosted on yann.lecun.com that has moved under CloudFlare protection\n",
    "# Run this script to enable the datasets download\n",
    "# Reference: https://github.com/pytorch/vision/issues/1938\n",
    "\n",
    "from six.moves import urllib\n",
    "opener = urllib.request.build_opener()\n",
    "opener.addheaders = [('User-agent', 'Mozilla/5.0')]\n",
    "urllib.request.install_opener(opener)\n",
    "print(1)"
   ]
  },
  {
   "cell_type": "code",
   "execution_count": 3,
   "metadata": {},
   "outputs": [
    {
     "name": "stdout",
     "output_type": "stream",
     "text": [
      "1\n"
     ]
    }
   ],
   "source": [
    "### Run this cell\n",
    "\n",
    "from torchvision import datasets, transforms\n",
    "\n",
    "# Define a transform to normalize the data\n",
    "transform = transforms.Compose([transforms.ToTensor(),\n",
    "                              transforms.Normalize((0.5,), (0.5,)),\n",
    "                              ])\n",
    "\n",
    "# Download and load the training data\n",
    "trainset = datasets.MNIST('~/.pytorch/MNIST_data/', download=True, train=True, transform=transform)\n",
    "trainloader = torch.utils.data.DataLoader(trainset, batch_size=64, shuffle=True)\n",
    "print(1)"
   ]
  },
  {
   "cell_type": "markdown",
   "metadata": {},
   "source": [
    "We have the training data loaded into `trainloader` and we make that an iterator with `iter(trainloader)`. Later, we'll use this to loop through the dataset for training, like\n",
    "\n",
    "```python\n",
    "for image, label in trainloader:\n",
    "    ## do things with images and labels\n",
    "```\n",
    "\n",
    "You'll notice I created the `trainloader` with a batch size of 64, and `shuffle=True`. The batch size is the number of images we get in one iteration from the data loader and pass through our network, often called a *batch*. And `shuffle=True` tells it to shuffle the dataset every time we start going through the data loader again. But here I'm just grabbing the first batch so we can check out the data. We can see below that `images` is just a tensor with size `(64, 1, 28, 28)`. So, 64 images per batch, 1 color channel, and 28x28 images."
   ]
  },
  {
   "cell_type": "code",
   "execution_count": 4,
   "metadata": {},
   "outputs": [
    {
     "name": "stdout",
     "output_type": "stream",
     "text": [
      "<class 'torch.Tensor'>\n",
      "torch.Size([64, 1, 28, 28])\n",
      "torch.Size([64])\n"
     ]
    }
   ],
   "source": [
    "dataiter = iter(trainloader)\n",
    "images, labels = dataiter.next()\n",
    "print(type(images))\n",
    "print(images.shape)\n",
    "print(labels.shape)"
   ]
  },
  {
   "cell_type": "markdown",
   "metadata": {},
   "source": [
    "This is what one of the images looks like. "
   ]
  },
  {
   "cell_type": "code",
   "execution_count": 5,
   "metadata": {},
   "outputs": [
    {
     "data": {
      "image/png": "[encoded data removed]",
      "text/plain": [
       "<Figure size 432x288 with 1 Axes>"
      ]
     },
     "metadata": {
      "image/png": {
       "height": 248,
       "width": 251
      },
      "needs_background": "light"
     },
     "output_type": "display_data"
    }
   ],
   "source": [
    "plt.imshow(images[16].numpy().squeeze(), cmap='Greys_r');\n",
    "\n",
    "# def imshow(image, ax=None, title=None, normalize=True):\n",
    "#     \"\"\"Imshow for Tensor.\"\"\"\n",
    "#     if ax is None:\n",
    "#         fig, ax = plt.subplots()\n",
    "#     image = image.numpy().transpose((1, 2, 0))\n",
    "#     if normalize:\n",
    "#         mean = np.array([0.485, 0.456, 0.406])\n",
    "#         std = np.array([0.229, 0.224, 0.225])\n",
    "#         image = std * image + mean\n",
    "#         image = np.clip(image, 0, 1)\n",
    "#     ax.imshow(image)\n",
    "#     ax.spines['top'].set_visible(False)\n",
    "#     ax.spines['right'].set_visible(False)\n",
    "#     ax.spines['left'].set_visible(False)\n",
    "#     ax.spines['bottom'].set_visible(False)\n",
    "#     ax.tick_params(axis='both', length=0)\n",
    "#     ax.set_xticklabels('')\n",
    "#     ax.set_yticklabels('')\n",
    "#     return ax\n",
    "# image, label = next(iter(trainloader))\n",
    "# imshow(image[0,:]);"
   ]
  },
  {
   "cell_type": "markdown",
   "metadata": {},
   "source": [
    "First, let's try to build a simple network for this dataset using weight matrices and matrix multiplications. Then, we'll see how to do it using PyTorch's `nn` module which provides a much more convenient and powerful method for defining network architectures.\n",
    "\n",
    "The networks you've seen so far are called *fully-connected* or *dense* networks. Each unit in one layer is connected to each unit in the next layer. In fully-connected networks, the input to each layer must be a one-dimensional vector (which can be stacked into a 2D tensor as a batch of multiple examples). However, our images are 28x28 2D tensors, so we need to convert them into 1D vectors. Thinking about sizes, we need to convert the batch of images with shape `(64, 1, 28, 28)` to a have a shape of `(64, 784)`, 784 is 28 times 28. This is typically called *flattening*, we flattened the 2D images into 1D vectors.\n",
    "\n",
    "Previously you built a network with one output unit. Here we need 10 output units, one for each digit. We want our network to predict the digit shown in an image, so what we'll do is calculate probabilities that the image is of any one digit or class. This ends up being a discrete probability distribution over the classes (digits) that tells us the most likely class for the image. That means we need 10 output units for the 10 classes (digits). We'll see how to convert the network output into a probability distribution next.\n",
    "\n",
    "> **Exercise:** Flatten the batch of images `images`. Then build a multi-layer network with 784 input units, 256 hidden units, and 10 output units using random tensors for the weights and biases. For now, use a sigmoid activation for the hidden layer. Leave the output layer without an activation, we'll add one that gives us a probability distribution next."
   ]
  },
  {
   "cell_type": "code",
   "execution_count": 6,
   "metadata": {},
   "outputs": [
    {
     "name": "stdout",
     "output_type": "stream",
     "text": [
      "torch.Size([64, 10])\n",
      "tensor([[8.6034e-01, 9.9983e-01, 2.5904e-11, 1.0000e+00, 2.7603e-02, 9.8675e-01,\n",
      "         9.3613e-01, 9.6425e-01, 9.3027e-01, 9.6453e-05],\n",
      "        [1.3276e-04, 9.4642e-01, 2.6472e-09, 9.9183e-01, 9.9951e-01, 1.0000e+00,\n",
      "         2.5142e-01, 9.9877e-01, 8.8268e-01, 8.0779e-06],\n",
      "        [1.0009e-04, 1.0000e+00, 6.7376e-04, 1.0000e+00, 2.1323e-01, 9.9999e-01,\n",
      "         1.0000e+00, 7.3008e-01, 9.9989e-01, 9.9832e-01],\n",
      "        [5.7511e-04, 8.9195e-01, 2.3930e-06, 9.8017e-01, 9.8823e-01, 9.9999e-01,\n",
      "         9.6308e-01, 9.9995e-01, 9.9992e-01, 1.5172e-02],\n",
      "        [2.3527e-01, 3.2286e-01, 3.3359e-09, 9.8225e-01, 7.0298e-01, 9.9979e-01,\n",
      "         7.9941e-01, 9.9906e-01, 9.9182e-01, 2.7084e-04],\n",
      "        [6.3835e-05, 9.1412e-01, 1.3409e-04, 9.9454e-01, 9.9983e-01, 9.9975e-01,\n",
      "         7.3452e-01, 1.2382e-01, 9.9971e-01, 1.3234e-03],\n",
      "        [9.9441e-03, 9.6169e-01, 1.3733e-05, 9.9367e-01, 9.9836e-01, 9.9999e-01,\n",
      "         9.9998e-01, 3.6934e-04, 3.9175e-01, 3.5043e-08],\n",
      "        [3.0726e-06, 1.5122e-02, 2.3801e-03, 9.9654e-01, 9.0952e-01, 1.0000e+00,\n",
      "         2.3557e-04, 9.5170e-01, 1.0000e+00, 3.0618e-03],\n",
      "        [5.3198e-02, 9.7579e-01, 8.2210e-08, 9.3285e-01, 1.6326e-04, 9.9979e-01,\n",
      "         7.4018e-03, 6.1107e-01, 6.8610e-01, 5.1321e-06],\n",
      "        [7.7491e-03, 9.9519e-01, 5.3729e-08, 9.7384e-01, 1.3844e-02, 9.9994e-01,\n",
      "         2.9717e-03, 9.9403e-01, 2.4347e-01, 1.2718e-02],\n",
      "        [2.7599e-07, 9.9995e-01, 1.7620e-06, 1.0000e+00, 1.4296e-01, 1.0000e+00,\n",
      "         9.4993e-01, 8.9990e-01, 9.9999e-01, 9.4890e-01],\n",
      "        [5.1526e-05, 9.9974e-01, 1.1700e-03, 1.0000e+00, 4.3448e-02, 1.0000e+00,\n",
      "         9.9940e-01, 9.9976e-01, 1.0000e+00, 7.7660e-02],\n",
      "        [8.9430e-07, 1.0000e+00, 3.0538e-06, 9.9626e-01, 6.1688e-01, 1.0000e+00,\n",
      "         9.9952e-01, 7.3673e-01, 9.9979e-01, 4.7856e-06],\n",
      "        [3.5254e-06, 9.9907e-01, 3.4816e-04, 9.9998e-01, 9.9939e-01, 1.0000e+00,\n",
      "         9.9997e-01, 1.0000e+00, 9.9914e-01, 6.7896e-02],\n",
      "        [1.9778e-02, 9.9985e-01, 1.2091e-06, 9.9935e-01, 6.0519e-01, 1.0000e+00,\n",
      "         8.9343e-01, 9.9809e-01, 9.9998e-01, 8.8797e-05],\n",
      "        [2.2674e-09, 9.9985e-01, 5.7274e-05, 9.9999e-01, 7.6905e-01, 1.0000e+00,\n",
      "         9.0981e-01, 2.1500e-01, 9.4279e-01, 2.0059e-01],\n",
      "        [7.3232e-04, 9.9996e-01, 1.2491e-09, 5.8522e-02, 1.1808e-02, 9.6854e-01,\n",
      "         7.1696e-02, 9.9999e-01, 1.5791e-01, 2.7917e-02],\n",
      "        [3.0707e-08, 8.7261e-02, 1.7265e-09, 1.0000e+00, 9.0194e-01, 9.9984e-01,\n",
      "         3.3519e-02, 2.8686e-01, 3.9424e-01, 3.2763e-06],\n",
      "        [1.5973e-02, 9.2388e-01, 1.8338e-06, 1.0000e+00, 1.1631e-02, 1.0000e+00,\n",
      "         9.9959e-01, 1.1751e-01, 9.7230e-01, 1.0167e-03],\n",
      "        [1.3961e-04, 9.9990e-01, 2.3709e-04, 9.9624e-01, 9.8743e-01, 1.0000e+00,\n",
      "         1.0000e+00, 9.9979e-01, 9.5344e-01, 4.7267e-03],\n",
      "        [2.9182e-09, 9.9967e-01, 7.7929e-06, 9.9971e-01, 9.5735e-01, 1.0000e+00,\n",
      "         6.7896e-01, 2.6966e-02, 9.8526e-01, 2.7621e-01],\n",
      "        [3.2485e-05, 1.7278e-03, 1.5610e-10, 9.9840e-01, 8.6708e-01, 1.0000e+00,\n",
      "         9.8122e-01, 1.0000e+00, 9.8634e-01, 7.1445e-03],\n",
      "        [1.3851e-06, 9.9947e-01, 2.6352e-08, 2.2237e-01, 9.5753e-01, 1.0000e+00,\n",
      "         8.9732e-01, 1.0000e+00, 9.9931e-01, 2.3957e-05],\n",
      "        [1.2870e-05, 1.3328e-02, 1.2626e-05, 9.9994e-01, 9.9894e-01, 9.9984e-01,\n",
      "         2.3324e-04, 3.2564e-01, 9.9133e-01, 1.7156e-05],\n",
      "        [4.6906e-05, 1.0000e+00, 9.2560e-02, 3.4384e-02, 5.9503e-03, 9.9996e-01,\n",
      "         9.9631e-01, 1.0000e+00, 7.1233e-01, 9.9025e-05],\n",
      "        [7.9677e-06, 9.9985e-01, 1.0814e-03, 9.9967e-01, 9.9969e-01, 9.9990e-01,\n",
      "         3.2298e-02, 9.2825e-01, 9.9981e-01, 2.0806e-08],\n",
      "        [2.5122e-06, 2.0420e-03, 1.4311e-05, 9.8302e-01, 9.9994e-01, 1.0000e+00,\n",
      "         9.9999e-01, 3.5204e-03, 9.7755e-01, 3.5971e-01],\n",
      "        [4.6754e-03, 2.9700e-01, 1.6030e-10, 9.8458e-01, 9.7362e-01, 1.0000e+00,\n",
      "         9.2838e-01, 9.8599e-01, 2.6688e-01, 2.0914e-03],\n",
      "        [7.5603e-05, 8.3654e-01, 2.6816e-07, 9.9986e-01, 3.1948e-01, 9.9859e-01,\n",
      "         9.7991e-01, 9.9948e-01, 9.9975e-01, 2.6329e-03],\n",
      "        [2.8269e-07, 9.9142e-01, 1.6215e-04, 9.9837e-01, 8.3849e-02, 9.9998e-01,\n",
      "         9.9904e-01, 9.2474e-03, 9.9593e-01, 3.5485e-02],\n",
      "        [6.7810e-04, 9.9852e-01, 1.7735e-10, 9.9998e-01, 2.8146e-01, 9.9994e-01,\n",
      "         9.7541e-01, 9.9957e-01, 9.3475e-01, 1.0161e-01],\n",
      "        [7.4025e-09, 8.7917e-03, 1.4780e-04, 1.0000e+00, 9.8586e-01, 9.9999e-01,\n",
      "         1.2226e-01, 9.9942e-01, 9.4088e-01, 5.8046e-03],\n",
      "        [7.1260e-02, 9.8910e-01, 3.1944e-05, 1.0000e+00, 8.9899e-01, 1.0000e+00,\n",
      "         9.9862e-01, 9.9884e-01, 9.9997e-01, 7.5852e-01],\n",
      "        [5.0111e-05, 8.4334e-01, 6.7089e-10, 2.0938e-02, 9.6638e-01, 9.9999e-01,\n",
      "         1.4632e-01, 9.9999e-01, 9.9998e-01, 1.3668e-03],\n",
      "        [2.2612e-01, 3.5304e-01, 6.2774e-12, 1.0000e+00, 1.4273e-04, 9.9951e-01,\n",
      "         9.9852e-01, 9.9923e-01, 9.1229e-01, 5.9314e-05],\n",
      "        [2.8636e-06, 7.7771e-01, 1.0427e-01, 1.0000e+00, 1.0000e+00, 1.0000e+00,\n",
      "         9.5399e-01, 1.7244e-02, 8.6008e-01, 1.4886e-02],\n",
      "        [6.3031e-08, 2.3211e-01, 1.0167e-06, 9.9959e-01, 1.3035e-04, 9.9843e-01,\n",
      "         9.9891e-01, 1.0000e+00, 9.9333e-01, 3.4882e-05],\n",
      "        [4.5979e-01, 9.8695e-01, 6.2876e-07, 7.7312e-01, 8.4834e-01, 1.0000e+00,\n",
      "         9.9999e-01, 9.9998e-01, 9.9964e-01, 1.4720e-03],\n",
      "        [5.0286e-03, 9.7955e-01, 4.2403e-03, 9.9910e-01, 1.8309e-02, 9.9928e-01,\n",
      "         9.9454e-01, 9.8313e-01, 9.9997e-01, 6.6781e-01],\n",
      "        [2.2604e-06, 8.3028e-01, 1.0701e-01, 1.6981e-01, 9.9642e-01, 1.0000e+00,\n",
      "         1.0000e+00, 9.9999e-01, 9.9451e-01, 3.9962e-06],\n",
      "        [8.4706e-09, 7.1249e-01, 3.1382e-06, 1.0000e+00, 9.7923e-01, 1.0000e+00,\n",
      "         1.0000e+00, 1.0000e+00, 9.8106e-01, 1.5854e-03],\n",
      "        [1.0141e-06, 1.6108e-02, 3.6057e-07, 9.9420e-01, 9.6540e-01, 9.9999e-01,\n",
      "         9.9887e-01, 3.2160e-01, 9.9992e-01, 3.3118e-02],\n",
      "        [1.0333e-03, 9.9958e-01, 1.8763e-08, 7.4120e-04, 9.9888e-01, 9.9674e-01,\n",
      "         2.6030e-01, 9.9919e-01, 5.1222e-01, 8.8601e-06],\n",
      "        [1.8744e-05, 1.2944e-01, 1.2340e-09, 2.7223e-01, 5.2161e-01, 9.9999e-01,\n",
      "         8.4456e-01, 5.8876e-01, 5.7745e-01, 1.6461e-06],\n",
      "        [9.3885e-07, 9.9886e-01, 4.9271e-12, 1.0000e+00, 1.6485e-01, 9.9854e-01,\n",
      "         1.7559e-01, 1.0000e+00, 9.9999e-01, 3.2202e-05],\n",
      "        [4.5195e-05, 9.9967e-01, 9.9605e-10, 1.0000e+00, 9.7723e-01, 9.9986e-01,\n",
      "         9.8042e-01, 4.9211e-03, 1.0000e+00, 4.7592e-02],\n",
      "        [1.2374e-06, 9.8596e-01, 4.4842e-05, 9.9998e-01, 9.9787e-01, 1.0000e+00,\n",
      "         8.1970e-01, 9.9977e-01, 9.8138e-01, 9.7285e-01],\n",
      "        [1.4738e-07, 9.9322e-01, 6.7831e-04, 9.9997e-01, 3.2190e-01, 1.0000e+00,\n",
      "         9.4555e-01, 4.0705e-02, 9.9994e-01, 2.3357e-02],\n",
      "        [4.3486e-06, 7.1312e-02, 3.5487e-06, 9.9911e-01, 9.9986e-01, 9.1031e-01,\n",
      "         9.9995e-01, 9.9692e-01, 4.5457e-01, 3.7152e-01],\n",
      "        [1.0518e-06, 8.6693e-01, 1.6490e-06, 9.9999e-01, 5.2174e-01, 5.5740e-01,\n",
      "         9.6730e-01, 9.9738e-01, 8.6218e-01, 6.1181e-02],\n",
      "        [3.7244e-08, 9.2070e-01, 6.7124e-10, 9.9939e-01, 9.8611e-01, 9.9999e-01,\n",
      "         9.9976e-01, 9.9998e-01, 9.9546e-01, 9.7434e-01],\n",
      "        [6.0563e-09, 2.4683e-01, 4.0091e-06, 9.9790e-01, 9.7618e-01, 1.0000e+00,\n",
      "         9.9999e-01, 9.9994e-01, 1.0000e+00, 3.8477e-05],\n",
      "        [6.8666e-09, 9.8682e-01, 9.5100e-09, 9.9990e-01, 6.9182e-01, 1.0000e+00,\n",
      "         9.9894e-01, 9.9999e-01, 9.9893e-01, 2.2420e-02],\n",
      "        [1.6399e-07, 7.5379e-03, 1.2244e-06, 9.9781e-01, 9.6320e-01, 9.9998e-01,\n",
      "         9.9999e-01, 1.0000e+00, 9.9976e-01, 2.0246e-01],\n",
      "        [1.4892e-07, 9.9772e-01, 2.1819e-01, 9.9982e-01, 2.1604e-02, 9.9997e-01,\n",
      "         1.0000e+00, 1.0000e+00, 9.7809e-01, 6.1989e-02],\n",
      "        [1.8456e-03, 9.9165e-01, 1.0414e-02, 9.9953e-01, 7.1439e-01, 9.9993e-01,\n",
      "         8.7074e-01, 1.0650e-04, 3.8827e-01, 5.8267e-02],\n",
      "        [2.0408e-04, 9.8832e-01, 1.3682e-07, 9.9979e-01, 9.9646e-01, 1.0000e+00,\n",
      "         9.9992e-01, 9.8416e-01, 9.9911e-01, 4.6182e-03],\n",
      "        [3.1159e-01, 9.9536e-01, 9.6198e-10, 9.0135e-01, 2.1620e-01, 1.0000e+00,\n",
      "         2.4388e-01, 9.9528e-01, 1.8066e-02, 2.1905e-01],\n",
      "        [9.2888e-01, 9.9214e-01, 2.2625e-09, 9.9543e-01, 9.7769e-01, 9.9961e-01,\n",
      "         6.5519e-04, 7.2395e-01, 9.9890e-01, 7.2861e-01],\n",
      "        [4.2872e-07, 9.8512e-01, 7.6271e-07, 9.9408e-01, 9.9855e-01, 1.0000e+00,\n",
      "         9.9771e-01, 9.9994e-01, 9.9979e-01, 3.7849e-06],\n",
      "        [8.8431e-09, 8.4460e-01, 2.7782e-04, 9.9999e-01, 2.7795e-03, 9.9713e-01,\n",
      "         1.0249e-01, 9.9125e-01, 1.0000e+00, 1.3610e-01],\n",
      "        [8.0258e-08, 1.7915e-03, 1.9039e-05, 9.9991e-01, 7.9687e-01, 9.8642e-01,\n",
      "         9.8540e-01, 5.4622e-01, 2.4421e-01, 4.9123e-02],\n",
      "        [1.8776e-06, 7.4652e-01, 2.0775e-05, 9.9669e-01, 1.2162e-02, 1.0000e+00,\n",
      "         9.6456e-01, 9.9706e-01, 9.9921e-01, 3.6122e-01],\n",
      "        [1.3908e-08, 9.9999e-01, 4.9702e-06, 9.9854e-01, 1.8497e-01, 1.0000e+00,\n",
      "         5.0188e-01, 1.6365e-01, 9.4238e-01, 1.4370e-02]])\n"
     ]
    }
   ],
   "source": [
    "## Your solution\n",
    "n_in = images.view(images.shape[0], -1)\n",
    "n_hid = 256\n",
    "n_out = 10\n",
    "\n",
    "\n",
    "def sigmoid(x):\n",
    "    return 1 / (1+torch.exp(-x))\n",
    "\n",
    "w1 = torch.randn((n_in[1].shape[0], n_hid))\n",
    "b1 = torch.randn((n_hid))\n",
    "w2 = torch.randn((n_hid, n_out))\n",
    "b2 = torch.randn((n_out))\n",
    "\n",
    "\n",
    "h = sigmoid(torch.mm(n_in, w1) + b1)\n",
    "\n",
    "out = sigmoid(torch.mm(h, w2) + b2)\n",
    "print(out.shape)\n",
    "print(out)"
   ]
  },
  {
   "cell_type": "markdown",
   "metadata": {},
   "source": [
    "Now we have 10 outputs for our network. We want to pass in an image to our network and get out a probability distribution over the classes that tells us the likely class(es) the image belongs to. Something that looks like this:\n",
    "<img src='assets/image_distribution.png' width=500px>\n",
    "\n",
    "Here we see that the probability for each class is roughly the same. This is representing an untrained network, it hasn't seen any data yet so it just returns a uniform distribution with equal probabilities for each class.\n",
    "\n",
    "To calculate this probability distribution, we often use the [**softmax** function](https://en.wikipedia.org/wiki/Softmax_function). Mathematically this looks like\n",
    "\n",
    "$$\n",
    "\\Large \\sigma(x_i) = \\cfrac{e^{x_i}}{\\sum_k^K{e^{x_k}}}\n",
    "$$\n",
    "\n",
    "What this does is squish each input $x_i$ between 0 and 1 and normalizes the values to give you a proper probability distribution where the probabilites sum up to one.\n",
    "\n",
    "> **Exercise:** Implement a function `softmax` that performs the softmax calculation and returns probability distributions for each example in the batch. Note that you'll need to pay attention to the shapes when doing this. If you have a tensor `a` with shape `(64, 10)` and a tensor `b` with shape `(64,)`, doing `a/b` will give you an error because PyTorch will try to do the division across the columns (called broadcasting) but you'll get a size mismatch. The way to think about this is for each of the 64 examples, you only want to divide by one value, the sum in the denominator. So you need `b` to have a shape of `(64, 1)`. This way PyTorch will divide the 10 values in each row of `a` by the one value in each row of `b`. Pay attention to how you take the sum as well. You'll need to define the `dim` keyword in `torch.sum`. Setting `dim=0` takes the sum across the rows while `dim=1` takes the sum across the columns."
   ]
  },
  {
   "cell_type": "code",
   "execution_count": 7,
   "metadata": {},
   "outputs": [
    {
     "data": {
      "text/plain": [
       "torch.Size([64, 10])"
      ]
     },
     "execution_count": 7,
     "metadata": {},
     "output_type": "execute_result"
    }
   ],
   "source": [
    "b = np.exp(out)\n",
    "b.shape"
   ]
  },
  {
   "cell_type": "code",
   "execution_count": 8,
   "metadata": {},
   "outputs": [
    {
     "name": "stdout",
     "output_type": "stream",
     "text": [
      "torch.Size([64])\n"
     ]
    }
   ],
   "source": [
    "c = torch.sum(np.exp(out), 1)\n",
    "print(c.shape)\n",
    "b/c.view(64,1);"
   ]
  },
  {
   "cell_type": "code",
   "execution_count": 9,
   "metadata": {},
   "outputs": [
    {
     "name": "stdout",
     "output_type": "stream",
     "text": [
      "torch.Size([64, 10])\n",
      "tensor([1.0000, 1.0000, 1.0000, 1.0000, 1.0000, 1.0000, 1.0000, 1.0000, 1.0000,\n",
      "        1.0000, 1.0000, 1.0000, 1.0000, 1.0000, 1.0000, 1.0000, 1.0000, 1.0000,\n",
      "        1.0000, 1.0000, 1.0000, 1.0000, 1.0000, 1.0000, 1.0000, 1.0000, 1.0000,\n",
      "        1.0000, 1.0000, 1.0000, 1.0000, 1.0000, 1.0000, 1.0000, 1.0000, 1.0000,\n",
      "        1.0000, 1.0000, 1.0000, 1.0000, 1.0000, 1.0000, 1.0000, 1.0000, 1.0000,\n",
      "        1.0000, 1.0000, 1.0000, 1.0000, 1.0000, 1.0000, 1.0000, 1.0000, 1.0000,\n",
      "        1.0000, 1.0000, 1.0000, 1.0000, 1.0000, 1.0000, 1.0000, 1.0000, 1.0000,\n",
      "        1.0000])\n"
     ]
    }
   ],
   "source": [
    "def softmax(x):\n",
    "    ## TODO: Implement the softmax function here\n",
    "    return torch.exp(x) / (torch.sum(torch.exp(x), dim=1).view(64,1))\n",
    "\n",
    "# Here, out should be the output of the network in the previous excercise with shape (64,10)\n",
    "probabilities = softmax(out)\n",
    "# Does it have the right shape? Should be (64, 10)\n",
    "print(probabilities.shape)\n",
    "# Does it sum to 1?\n",
    "print(probabilities.sum(dim=1))"
   ]
  },
  {
   "cell_type": "markdown",
   "metadata": {},
   "source": [
    "## Building networks with PyTorch\n",
    "\n",
    "PyTorch provides a module `nn` that makes building networks much simpler. Here I'll show you how to build the same one as above with 784 inputs, 256 hidden units, 10 output units and a softmax output."
   ]
  },
  {
   "cell_type": "code",
   "execution_count": 10,
   "metadata": {},
   "outputs": [],
   "source": [
    "from torch import nn"
   ]
  },
  {
   "cell_type": "code",
   "execution_count": 11,
   "metadata": {},
   "outputs": [],
   "source": [
    "class Network(nn.Module):\n",
    "    def __init__(self):\n",
    "        super().__init__()\n",
    "        \n",
    "        # Inputs to hidden layer linear transformation\n",
    "        self.hidden = nn.Linear(784, 256)\n",
    "        # Output layer, 10 units - one for each digit\n",
    "        self.output = nn.Linear(256, 10)\n",
    "        \n",
    "        # Define sigmoid activation and softmax output \n",
    "        self.sigmoid = nn.Sigmoid()\n",
    "        self.softmax = nn.Softmax(dim=1)\n",
    "        \n",
    "    def forward(self, x):\n",
    "        # Pass the input tensor through each of our operations\n",
    "        x = self.hidden(x)\n",
    "        x = self.sigmoid(x)\n",
    "        x = self.output(x)\n",
    "        x = self.softmax(x)\n",
    "        \n",
    "        return x"
   ]
  },
  {
   "cell_type": "markdown",
   "metadata": {},
   "source": [
    "Let's go through this bit by bit.\n",
    "\n",
    "```python\n",
    "class Network(nn.Module):\n",
    "```\n",
    "\n",
    "Here we're inheriting from `nn.Module`. Combined with `super().__init__()` this creates a class that tracks the architecture and provides a lot of useful methods and attributes. It is mandatory to inherit from `nn.Module` when you're creating a class for your network. The name of the class itself can be anything.\n",
    "\n",
    "```python\n",
    "self.hidden = nn.Linear(784, 256)\n",
    "```\n",
    "\n",
    "This line creates a module for a linear transformation, $x\\mathbf{W} + b$, with 784 inputs and 256 outputs and assigns it to `self.hidden`. The module automatically creates the weight and bias tensors which we'll use in the `forward` method. You can access the weight and bias tensors once the network (`net`) is created with `net.hidden.weight` and `net.hidden.bias`.\n",
    "\n",
    "```python\n",
    "self.output = nn.Linear(256, 10)\n",
    "```\n",
    "\n",
    "Similarly, this creates another linear transformation with 256 inputs and 10 outputs.\n",
    "\n",
    "```python\n",
    "self.sigmoid = nn.Sigmoid()\n",
    "self.softmax = nn.Softmax(dim=1)\n",
    "```\n",
    "\n",
    "Here I defined operations for the sigmoid activation and softmax output. Setting `dim=1` in `nn.Softmax(dim=1)` calculates softmax across the columns.\n",
    "\n",
    "```python\n",
    "def forward(self, x):\n",
    "```\n",
    "\n",
    "PyTorch networks created with `nn.Module` must have a `forward` method defined. It takes in a tensor `x` and passes it through the operations you defined in the `__init__` method.\n",
    "\n",
    "```python\n",
    "x = self.hidden(x)\n",
    "x = self.sigmoid(x)\n",
    "x = self.output(x)\n",
    "x = self.softmax(x)\n",
    "```\n",
    "\n",
    "Here the input tensor `x` is passed through each operation and reassigned to `x`. We can see that the input tensor goes through the hidden layer, then a sigmoid function, then the output layer, and finally the softmax function. It doesn't matter what you name the variables here, as long as the inputs and outputs of the operations match the network architecture you want to build. The order in which you define things in the `__init__` method doesn't matter, but you'll need to sequence the operations correctly in the `forward` method.\n",
    "\n",
    "Now we can create a `Network` object."
   ]
  },
  {
   "cell_type": "code",
   "execution_count": 12,
   "metadata": {},
   "outputs": [
    {
     "data": {
      "text/plain": [
       "Network(\n",
       "  (hidden): Linear(in_features=784, out_features=256, bias=True)\n",
       "  (output): Linear(in_features=256, out_features=10, bias=True)\n",
       "  (sigmoid): Sigmoid()\n",
       "  (softmax): Softmax(dim=1)\n",
       ")"
      ]
     },
     "execution_count": 12,
     "metadata": {},
     "output_type": "execute_result"
    }
   ],
   "source": [
    "# Create the network and look at it's text representation\n",
    "model = Network()\n",
    "model"
   ]
  },
  {
   "cell_type": "markdown",
   "metadata": {},
   "source": [
    "You can define the network somewhat more concisely and clearly using the `torch.nn.functional` module. This is the most common way you'll see networks defined as many operations are simple element-wise functions. We normally import this module as `F`, `import torch.nn.functional as F`."
   ]
  },
  {
   "cell_type": "code",
   "execution_count": 13,
   "metadata": {},
   "outputs": [],
   "source": [
    "import torch.nn.functional as F\n",
    "\n",
    "class Network(nn.Module):\n",
    "    def __init__(self):\n",
    "        super().__init__()\n",
    "        # Inputs to hidden layer linear transformation\n",
    "        self.hidden = nn.Linear(784, 256)\n",
    "        # Output layer, 10 units - one for each digit\n",
    "        self.output = nn.Linear(256, 10)\n",
    "        \n",
    "    def forward(self, x):\n",
    "        # Hidden layer with sigmoid activation\n",
    "        x = F.sigmoid(self.hidden(x))\n",
    "        # Output layer with softmax activation\n",
    "        x = F.softmax(self.output(x), dim=1)\n",
    "        \n",
    "        return x"
   ]
  },
  {
   "cell_type": "markdown",
   "metadata": {},
   "source": [
    "### Activation functions\n",
    "\n",
    "So far we've only been looking at the sigmoid activation function, but in general any function can be used as an activation function. The only requirement is that for a network to approximate a non-linear function, the activation functions must be non-linear. Here are a few more examples of common activation functions: Tanh (hyperbolic tangent), and ReLU (rectified linear unit).\n",
    "\n",
    "<img src=\"assets/activation.png\" width=700px>\n",
    "\n",
    "In practice, the ReLU function is used almost exclusively as the activation function for hidden layers."
   ]
  },
  {
   "cell_type": "markdown",
   "metadata": {},
   "source": [
    "### Your Turn to Build a Network\n",
    "\n",
    "<img src=\"assets/mlp_mnist.png\" width=600px>\n",
    "\n",
    "> **Exercise:** Create a network with 784 input units, a hidden layer with 128 units and a ReLU activation, then a hidden layer with 64 units and a ReLU activation, and finally an output layer with a softmax activation as shown above. You can use a ReLU activation with the `nn.ReLU` module or `F.relu` function.\n",
    "\n",
    "It's good practice to name your layers by their type of network, for instance 'fc' to represent a fully-connected layer. As you code your solution, use `fc1`, `fc2`, and `fc3` as your layer names."
   ]
  },
  {
   "cell_type": "code",
   "execution_count": 14,
   "metadata": {
    "scrolled": true
   },
   "outputs": [
    {
     "data": {
      "text/plain": [
       "Network(\n",
       "  (fc1): Linear(in_features=784, out_features=128, bias=True)\n",
       "  (fc2): Linear(in_features=128, out_features=64, bias=True)\n",
       "  (fc3): Linear(in_features=64, out_features=10, bias=True)\n",
       ")"
      ]
     },
     "execution_count": 14,
     "metadata": {},
     "output_type": "execute_result"
    }
   ],
   "source": [
    "## Your solution here\n",
    "import torch.nn.functional as F\n",
    "\n",
    "class Network(nn.Module):\n",
    "    def __init__(self):\n",
    "        super().__init__()\n",
    "        self.fc1 = nn.Linear(784, 128)\n",
    "        self.fc2 = nn.Linear(128, 64)\n",
    "        self.fc3 = nn.Linear(64, 10)\n",
    "        \n",
    "    def forward(self, x):\n",
    "        x = F.relu(self.fc1(x))\n",
    "        x = F.relu(self.fc2(x))\n",
    "        x = F.softmax(self.fc3(x), dim = 1)\n",
    "        \n",
    "model = Network()\n",
    "model"
   ]
  },
  {
   "cell_type": "markdown",
   "metadata": {},
   "source": [
    "### Initializing weights and biases\n",
    "\n",
    "The weights and such are automatically initialized for you, but it's possible to customize how they are initialized. The weights and biases are tensors attached to the layer you defined, you can get them with `model.fc1.weight` for instance."
   ]
  },
  {
   "cell_type": "code",
   "execution_count": 15,
   "metadata": {},
   "outputs": [
    {
     "name": "stdout",
     "output_type": "stream",
     "text": [
      "Parameter containing:\n",
      "tensor([[-3.1648e-02, -1.1095e-02, -1.9224e-02,  ...,  1.1460e-03,\n",
      "          2.3566e-02,  9.2155e-03],\n",
      "        [-8.5823e-03,  1.9040e-02, -2.3421e-02,  ..., -8.2388e-03,\n",
      "          1.5221e-02, -8.4696e-03],\n",
      "        [-9.6816e-03, -3.3740e-02, -1.8615e-02,  ...,  1.9004e-02,\n",
      "          2.5010e-02, -3.8244e-05],\n",
      "        ...,\n",
      "        [ 2.5383e-02, -5.0363e-03, -1.5094e-02,  ...,  1.9674e-02,\n",
      "          5.7197e-03, -5.9170e-03],\n",
      "        [-3.1327e-02, -7.5999e-03, -1.1215e-02,  ..., -1.1763e-02,\n",
      "          1.5465e-02,  2.8978e-02],\n",
      "        [-1.0409e-02, -2.5948e-02, -4.2671e-03,  ..., -2.9533e-02,\n",
      "          2.5808e-03,  1.8215e-02]], requires_grad=True)\n",
      "Parameter containing:\n",
      "tensor([ 0.0044,  0.0326, -0.0208, -0.0039, -0.0219, -0.0171, -0.0138,  0.0165,\n",
      "         0.0053, -0.0267,  0.0142,  0.0244,  0.0042, -0.0203,  0.0296, -0.0289,\n",
      "         0.0097, -0.0108, -0.0273,  0.0157,  0.0230,  0.0002,  0.0030, -0.0159,\n",
      "         0.0045,  0.0185, -0.0167, -0.0261,  0.0092,  0.0338, -0.0035,  0.0057,\n",
      "         0.0314, -0.0244, -0.0134,  0.0258,  0.0109, -0.0348,  0.0021, -0.0147,\n",
      "        -0.0167, -0.0261, -0.0268,  0.0228, -0.0098, -0.0244, -0.0126,  0.0293,\n",
      "        -0.0178, -0.0074,  0.0072,  0.0119, -0.0070, -0.0257,  0.0082, -0.0332,\n",
      "         0.0215, -0.0081, -0.0081,  0.0088,  0.0044, -0.0103, -0.0194, -0.0164,\n",
      "         0.0081, -0.0192,  0.0196,  0.0323,  0.0186, -0.0288, -0.0348,  0.0185,\n",
      "        -0.0031, -0.0334, -0.0011,  0.0170,  0.0249,  0.0080, -0.0256,  0.0284,\n",
      "        -0.0131, -0.0286,  0.0337, -0.0127, -0.0213,  0.0264, -0.0245, -0.0294,\n",
      "        -0.0226,  0.0126,  0.0201,  0.0222, -0.0272,  0.0102,  0.0352, -0.0092,\n",
      "        -0.0150, -0.0130,  0.0080, -0.0344,  0.0324,  0.0174, -0.0244,  0.0311,\n",
      "        -0.0171, -0.0222,  0.0025, -0.0122, -0.0206,  0.0041, -0.0088, -0.0202,\n",
      "        -0.0029, -0.0296,  0.0079,  0.0345, -0.0280, -0.0064, -0.0320, -0.0245,\n",
      "         0.0098, -0.0120,  0.0163, -0.0137, -0.0137,  0.0123, -0.0354, -0.0227],\n",
      "       requires_grad=True)\n"
     ]
    }
   ],
   "source": [
    "print(model.fc1.weight)\n",
    "print(model.fc1.bias)"
   ]
  },
  {
   "cell_type": "markdown",
   "metadata": {},
   "source": [
    "For custom initialization, we want to modify these tensors in place. These are actually autograd *Variables*, so we need to get back the actual tensors with `model.fc1.weight.data`. Once we have the tensors, we can fill them with zeros (for biases) or random normal values."
   ]
  },
  {
   "cell_type": "code",
   "execution_count": 16,
   "metadata": {},
   "outputs": [
    {
     "data": {
      "text/plain": [
       "tensor([0., 0., 0., 0., 0., 0., 0., 0., 0., 0., 0., 0., 0., 0., 0., 0., 0., 0., 0., 0., 0., 0., 0., 0.,\n",
       "        0., 0., 0., 0., 0., 0., 0., 0., 0., 0., 0., 0., 0., 0., 0., 0., 0., 0., 0., 0., 0., 0., 0., 0.,\n",
       "        0., 0., 0., 0., 0., 0., 0., 0., 0., 0., 0., 0., 0., 0., 0., 0., 0., 0., 0., 0., 0., 0., 0., 0.,\n",
       "        0., 0., 0., 0., 0., 0., 0., 0., 0., 0., 0., 0., 0., 0., 0., 0., 0., 0., 0., 0., 0., 0., 0., 0.,\n",
       "        0., 0., 0., 0., 0., 0., 0., 0., 0., 0., 0., 0., 0., 0., 0., 0., 0., 0., 0., 0., 0., 0., 0., 0.,\n",
       "        0., 0., 0., 0., 0., 0., 0., 0.])"
      ]
     },
     "execution_count": 16,
     "metadata": {},
     "output_type": "execute_result"
    }
   ],
   "source": [
    "# Set biases to all zeros\n",
    "model.fc1.bias.data.fill_(0)"
   ]
  },
  {
   "cell_type": "code",
   "execution_count": 17,
   "metadata": {},
   "outputs": [
    {
     "data": {
      "text/plain": [
       "tensor([[-0.0038,  0.0058, -0.0026,  ..., -0.0124, -0.0020,  0.0025],\n",
       "        [-0.0028,  0.0107,  0.0020,  ..., -0.0022, -0.0030,  0.0020],\n",
       "        [ 0.0035, -0.0168, -0.0021,  ..., -0.0091, -0.0101, -0.0164],\n",
       "        ...,\n",
       "        [-0.0075,  0.0017, -0.0029,  ..., -0.0043,  0.0038,  0.0110],\n",
       "        [-0.0014, -0.0003, -0.0097,  ...,  0.0004,  0.0038, -0.0063],\n",
       "        [ 0.0072,  0.0041, -0.0012,  ...,  0.0016,  0.0011, -0.0248]])"
      ]
     },
     "execution_count": 17,
     "metadata": {},
     "output_type": "execute_result"
    }
   ],
   "source": [
    "# sample from random normal with standard dev = 0.01\n",
    "model.fc1.weight.data.normal_(std=0.01)"
   ]
  },
  {
   "cell_type": "markdown",
   "metadata": {},
   "source": [
    "### Forward pass\n",
    "\n",
    "Now that we have a network, let's see what happens when we pass in an image."
   ]
  },
  {
   "cell_type": "code",
   "execution_count": 23,
   "metadata": {},
   "outputs": [
    {
     "data": {
      "image/png": "[encoded data removed]",
      "text/plain": [
       "<Figure size 432x648 with 2 Axes>"
      ]
     },
     "metadata": {
      "image/png": {
       "height": 235,
       "width": 424
      },
      "needs_background": "light"
     },
     "output_type": "display_data"
    }
   ],
   "source": [
    "# Grab some data \n",
    "dataiter = iter(trainloader)\n",
    "images, labels = dataiter.next()\n",
    "\n",
    "# Resize images into a 1D vector, new shape is (batch size, color channels, image pixels) \n",
    "images.resize_(64, 1, 784)\n",
    "# or images.resize_(images.shape[0], 1, 784) to automatically get batch size\n",
    "\n",
    "# Forward pass through the network\n",
    "img_idx = 0\n",
    "ps = model.forward(images[img_idx,:])\n",
    "\n",
    "img = images[img_idx]\n",
    "helper.view_classify(img.view(1, 28, 28), ps)"
   ]
  },
  {
   "cell_type": "markdown",
   "metadata": {},
   "source": [
    "As you can see above, our network has basically no idea what this digit is. It's because we haven't trained it yet, all the weights are random!\n",
    "\n",
    "### Using `nn.Sequential`\n",
    "\n",
    "PyTorch provides a convenient way to build networks like this where a tensor is passed sequentially through operations, `nn.Sequential` ([documentation](https://pytorch.org/docs/master/nn.html#torch.nn.Sequential)). Using this to build the equivalent network:"
   ]
  },
  {
   "cell_type": "code",
   "execution_count": 24,
   "metadata": {},
   "outputs": [
    {
     "name": "stdout",
     "output_type": "stream",
     "text": [
      "Sequential(\n",
      "  (0): Linear(in_features=784, out_features=128, bias=True)\n",
      "  (1): ReLU()\n",
      "  (2): Linear(in_features=128, out_features=64, bias=True)\n",
      "  (3): ReLU()\n",
      "  (4): Linear(in_features=64, out_features=10, bias=True)\n",
      "  (5): Softmax(dim=1)\n",
      ")\n"
     ]
    },
    {
     "data": {
      "image/png": "[encoded data removed]",
      "text/plain": [
       "<Figure size 432x648 with 2 Axes>"
      ]
     },
     "metadata": {
      "image/png": {
       "height": 235,
       "width": 424
      },
      "needs_background": "light"
     },
     "output_type": "display_data"
    }
   ],
   "source": [
    "# Hyperparameters for our network\n",
    "input_size = 784\n",
    "hidden_sizes = [128, 64]\n",
    "output_size = 10\n",
    "\n",
    "# Build a feed-forward network\n",
    "model = nn.Sequential(nn.Linear(input_size, hidden_sizes[0]),\n",
    "                      nn.ReLU(),\n",
    "                      nn.Linear(hidden_sizes[0], hidden_sizes[1]),\n",
    "                      nn.ReLU(),\n",
    "                      nn.Linear(hidden_sizes[1], output_size),\n",
    "                      nn.Softmax(dim=1))\n",
    "print(model)\n",
    "\n",
    "# Forward pass through the network and display output\n",
    "images, labels = next(iter(trainloader))\n",
    "images.resize_(images.shape[0], 1, 784)\n",
    "ps = model.forward(images[0,:])\n",
    "helper.view_classify(images[0].view(1, 28, 28), ps)"
   ]
  },
  {
   "cell_type": "markdown",
   "metadata": {},
   "source": [
    "Here our model is the same as before: 784 input units, a hidden layer with 128 units, ReLU activation, 64 unit hidden layer, another ReLU, then the output layer with 10 units, and the softmax output.\n",
    "\n",
    "The operations are available by passing in the appropriate index. For example, if you want to get first Linear operation and look at the weights, you'd use `model[0]`."
   ]
  },
  {
   "cell_type": "code",
   "execution_count": 25,
   "metadata": {},
   "outputs": [
    {
     "name": "stdout",
     "output_type": "stream",
     "text": [
      "Linear(in_features=784, out_features=128, bias=True)\n"
     ]
    },
    {
     "data": {
      "text/plain": [
       "Parameter containing:\n",
       "tensor([[-0.0289, -0.0041,  0.0343,  ..., -0.0269,  0.0188, -0.0169],\n",
       "        [-0.0210,  0.0158,  0.0348,  ..., -0.0314,  0.0312, -0.0116],\n",
       "        [ 0.0230,  0.0127, -0.0237,  ...,  0.0067,  0.0274, -0.0355],\n",
       "        ...,\n",
       "        [ 0.0349, -0.0145,  0.0042,  ...,  0.0072,  0.0171, -0.0260],\n",
       "        [-0.0170, -0.0185, -0.0021,  ...,  0.0344,  0.0206, -0.0298],\n",
       "        [-0.0260, -0.0160, -0.0248,  ...,  0.0214, -0.0279, -0.0328]],\n",
       "       requires_grad=True)"
      ]
     },
     "execution_count": 25,
     "metadata": {},
     "output_type": "execute_result"
    }
   ],
   "source": [
    "print(model[0])\n",
    "model[0].weight"
   ]
  },
  {
   "cell_type": "markdown",
   "metadata": {},
   "source": [
    "You can also pass in an `OrderedDict` to name the individual layers and operations, instead of using incremental integers. Note that dictionary keys must be unique, so _each operation must have a different name_."
   ]
  },
  {
   "cell_type": "code",
   "execution_count": 26,
   "metadata": {},
   "outputs": [
    {
     "data": {
      "text/plain": [
       "Sequential(\n",
       "  (fc1): Linear(in_features=784, out_features=128, bias=True)\n",
       "  (relu1): ReLU()\n",
       "  (fc2): Linear(in_features=128, out_features=64, bias=True)\n",
       "  (relu2): ReLU()\n",
       "  (output): Linear(in_features=64, out_features=10, bias=True)\n",
       "  (softmax): Softmax(dim=1)\n",
       ")"
      ]
     },
     "execution_count": 26,
     "metadata": {},
     "output_type": "execute_result"
    }
   ],
   "source": [
    "from collections import OrderedDict\n",
    "model = nn.Sequential(OrderedDict([\n",
    "                      ('fc1', nn.Linear(input_size, hidden_sizes[0])),\n",
    "                      ('relu1', nn.ReLU()),\n",
    "                      ('fc2', nn.Linear(hidden_sizes[0], hidden_sizes[1])),\n",
    "                      ('relu2', nn.ReLU()),\n",
    "                      ('output', nn.Linear(hidden_sizes[1], output_size)),\n",
    "                      ('softmax', nn.Softmax(dim=1))]))\n",
    "model"
   ]
  },
  {
   "cell_type": "markdown",
   "metadata": {},
   "source": [
    "Now you can access layers either by integer or the name"
   ]
  },
  {
   "cell_type": "code",
   "execution_count": 27,
   "metadata": {},
   "outputs": [
    {
     "name": "stdout",
     "output_type": "stream",
     "text": [
      "Linear(in_features=784, out_features=128, bias=True)\n",
      "Linear(in_features=784, out_features=128, bias=True)\n"
     ]
    }
   ],
   "source": [
    "print(model[0])\n",
    "print(model.fc1)"
   ]
  },
  {
   "cell_type": "markdown",
   "metadata": {},
   "source": [
    "In the next notebook, we'll see how we can train a neural network to accuractly predict the numbers appearing in the MNIST images."
   ]
  },
  {
   "cell_type": "code",
   "execution_count": 28,
   "metadata": {},
   "outputs": [
    {
     "data": {
      "text/plain": [
       "True"
      ]
     },
     "execution_count": 28,
     "metadata": {},
     "output_type": "execute_result"
    }
   ],
   "source": [
    "torch.cuda.is_available()"
   ]
  },
  {
   "cell_type": "code",
   "execution_count": null,
   "metadata": {},
   "outputs": [],
   "source": []
  }
 ],
 "metadata": {
  "kernelspec": {
   "display_name": "Python 3",
   "language": "python",
   "name": "python3"
  },
  "language_info": {
   "codemirror_mode": {
    "name": "ipython",
    "version": 3
   },
   "file_extension": ".py",
   "mimetype": "text/x-python",
   "name": "python",
   "nbconvert_exporter": "python",
   "pygments_lexer": "ipython3",
   "version": "3.8.8"
  }
 },
 "nbformat": 4,
 "nbformat_minor": 2
}
