{
 "cells": [
  {
   "cell_type": "markdown",
   "metadata": {},
   "source": [
    "# Neural networks with PyTorch\n",
    "\n",
    "Deep learning networks tend to be massive with dozens or hundreds of layers, that's where the term \"deep\" comes from. You can build one of these deep networks using only weight matrices as we did in the previous notebook, but in general it's very cumbersome and difficult to implement. PyTorch has a nice module `nn` that provides a nice way to efficiently build large neural networks."
   ]
  },
  {
   "cell_type": "code",
   "execution_count": 23,
   "metadata": {},
   "outputs": [],
   "source": [
    "# Import necessary packages\n",
    "\n",
    "%matplotlib inline\n",
    "%config InlineBackend.figure_format = 'retina'\n",
    "\n",
    "import numpy as np\n",
    "import torch\n",
    "\n",
    "import helper\n",
    "\n",
    "import matplotlib.pyplot as plt"
   ]
  },
  {
   "cell_type": "markdown",
   "metadata": {},
   "source": [
    "\n",
    "Now we're going to build a larger network that can solve a (formerly) difficult problem, identifying text in an image. Here we'll use the MNIST dataset which consists of greyscale handwritten digits. Each image is 28x28 pixels, you can see a sample below\n",
    "\n",
    "<img src='assets/mnist.png'>\n",
    "\n",
    "Our goal is to build a neural network that can take one of these images and predict the digit in the image.\n",
    "\n",
    "First up, we need to get our dataset. This is provided through the `torchvision` package. The code below will download the MNIST dataset, then create training and test datasets for us. Don't worry too much about the details here, you'll learn more about this later."
   ]
  },
  {
   "cell_type": "code",
   "execution_count": 24,
   "metadata": {},
   "outputs": [
    {
     "name": "stdout",
     "output_type": "stream",
     "text": [
      "1\n"
     ]
    }
   ],
   "source": [
    "# The MNIST datasets are hosted on yann.lecun.com that has moved under CloudFlare protection\n",
    "# Run this script to enable the datasets download\n",
    "# Reference: https://github.com/pytorch/vision/issues/1938\n",
    "\n",
    "from six.moves import urllib\n",
    "opener = urllib.request.build_opener()\n",
    "opener.addheaders = [('User-agent', 'Mozilla/5.0')]\n",
    "urllib.request.install_opener(opener)\n",
    "print(1)"
   ]
  },
  {
   "cell_type": "code",
   "execution_count": 25,
   "metadata": {},
   "outputs": [
    {
     "name": "stdout",
     "output_type": "stream",
     "text": [
      "1\n"
     ]
    }
   ],
   "source": [
    "### Run this cell\n",
    "\n",
    "from torchvision import datasets, transforms\n",
    "\n",
    "# Define a transform to normalize the data\n",
    "transform = transforms.Compose([transforms.ToTensor(),\n",
    "                              transforms.Normalize((0.5,), (0.5,)),\n",
    "                              ])\n",
    "\n",
    "# Download and load the training data\n",
    "trainset = datasets.MNIST('~/.pytorch/MNIST_data/', download=True, train=True, transform=transform)\n",
    "trainloader = torch.utils.data.DataLoader(trainset, batch_size=64, shuffle=True)\n",
    "print(1)"
   ]
  },
  {
   "cell_type": "markdown",
   "metadata": {},
   "source": [
    "We have the training data loaded into `trainloader` and we make that an iterator with `iter(trainloader)`. Later, we'll use this to loop through the dataset for training, like\n",
    "\n",
    "```python\n",
    "for image, label in trainloader:\n",
    "    ## do things with images and labels\n",
    "```\n",
    "\n",
    "You'll notice I created the `trainloader` with a batch size of 64, and `shuffle=True`. The batch size is the number of images we get in one iteration from the data loader and pass through our network, often called a *batch*. And `shuffle=True` tells it to shuffle the dataset every time we start going through the data loader again. But here I'm just grabbing the first batch so we can check out the data. We can see below that `images` is just a tensor with size `(64, 1, 28, 28)`. So, 64 images per batch, 1 color channel, and 28x28 images."
   ]
  },
  {
   "cell_type": "code",
   "execution_count": 26,
   "metadata": {},
   "outputs": [
    {
     "name": "stdout",
     "output_type": "stream",
     "text": [
      "<class 'torch.Tensor'>\n",
      "torch.Size([64, 1, 28, 28])\n",
      "torch.Size([64])\n"
     ]
    }
   ],
   "source": [
    "dataiter = iter(trainloader)\n",
    "images, labels = dataiter.next()\n",
    "print(type(images))\n",
    "print(images.shape)\n",
    "print(labels.shape)"
   ]
  },
  {
   "cell_type": "markdown",
   "metadata": {},
   "source": [
    "This is what one of the images looks like. "
   ]
  },
  {
   "cell_type": "code",
   "execution_count": 27,
   "metadata": {},
   "outputs": [],
   "source": [
    "plt.imshow(images[1].numpy().squeeze(), cmap='Greys_r');\n",
    "\n",
    "# def imshow(image, ax=None, title=None, normalize=True):\n",
    "#     \"\"\"Imshow for Tensor.\"\"\"\n",
    "#     if ax is None:\n",
    "#         fig, ax = plt.subplots()\n",
    "#     image = image.numpy().transpose((1, 2, 0))\n",
    "#     if normalize:\n",
    "#         mean = np.array([0.485, 0.456, 0.406])\n",
    "#         std = np.array([0.229, 0.224, 0.225])\n",
    "#         image = std * image + mean\n",
    "#         image = np.clip(image, 0, 1)\n",
    "#     ax.imshow(image)\n",
    "#     ax.spines['top'].set_visible(False)\n",
    "#     ax.spines['right'].set_visible(False)\n",
    "#     ax.spines['left'].set_visible(False)\n",
    "#     ax.spines['bottom'].set_visible(False)\n",
    "#     ax.tick_params(axis='both', length=0)\n",
    "#     ax.set_xticklabels('')\n",
    "#     ax.set_yticklabels('')\n",
    "#     return ax\n",
    "# image, label = next(iter(trainloader))\n",
    "# imshow(image[0,:]);"
   ]
  },
  {
   "cell_type": "markdown",
   "metadata": {},
   "source": [
    "First, let's try to build a simple network for this dataset using weight matrices and matrix multiplications. Then, we'll see how to do it using PyTorch's `nn` module which provides a much more convenient and powerful method for defining network architectures.\n",
    "\n",
    "The networks you've seen so far are called *fully-connected* or *dense* networks. Each unit in one layer is connected to each unit in the next layer. In fully-connected networks, the input to each layer must be a one-dimensional vector (which can be stacked into a 2D tensor as a batch of multiple examples). However, our images are 28x28 2D tensors, so we need to convert them into 1D vectors. Thinking about sizes, we need to convert the batch of images with shape `(64, 1, 28, 28)` to a have a shape of `(64, 784)`, 784 is 28 times 28. This is typically called *flattening*, we flattened the 2D images into 1D vectors.\n",
    "\n",
    "Previously you built a network with one output unit. Here we need 10 output units, one for each digit. We want our network to predict the digit shown in an image, so what we'll do is calculate probabilities that the image is of any one digit or class. This ends up being a discrete probability distribution over the classes (digits) that tells us the most likely class for the image. That means we need 10 output units for the 10 classes (digits). We'll see how to convert the network output into a probability distribution next.\n",
    "\n",
    "> **Exercise:** Flatten the batch of images `images`. Then build a multi-layer network with 784 input units, 256 hidden units, and 10 output units using random tensors for the weights and biases. For now, use a sigmoid activation for the hidden layer. Leave the output layer without an activation, we'll add one that gives us a probability distribution next."
   ]
  },
  {
   "cell_type": "code",
   "execution_count": 28,
   "metadata": {},
   "outputs": [
    {
     "name": "stdout",
     "output_type": "stream",
     "text": [
      "torch.Size([64, 10])\n",
      "tensor([[1.9897e-10, 1.0114e-06, 4.6114e-05, 5.7080e-01, 5.6116e-05, 5.1393e-06,\n",
      "         9.1745e-01, 2.0771e-03, 3.1131e-01, 9.1928e-01],\n",
      "        [1.7459e-11, 1.0082e-03, 9.4981e-02, 8.3811e-01, 3.9542e-02, 2.2374e-02,\n",
      "         9.9785e-01, 9.3264e-01, 3.6650e-04, 9.9868e-01],\n",
      "        [6.2695e-09, 3.5970e-01, 9.5543e-04, 9.9944e-01, 1.2998e-03, 3.6130e-04,\n",
      "         8.3171e-01, 9.3900e-01, 1.2856e-06, 9.9992e-01],\n",
      "        [2.6314e-11, 5.3383e-04, 3.8145e-05, 8.6379e-01, 6.2435e-05, 2.9909e-05,\n",
      "         1.4985e-02, 9.9273e-01, 3.7306e-03, 9.9988e-01],\n",
      "        [3.4289e-09, 4.1209e-01, 2.4744e-03, 9.9973e-01, 7.2018e-04, 3.6007e-02,\n",
      "         3.9102e-05, 2.6475e-02, 6.9290e-04, 9.9934e-01],\n",
      "        [7.7305e-10, 1.4560e-06, 9.3349e-02, 1.0685e-02, 1.0640e-03, 3.5521e-03,\n",
      "         8.7886e-01, 4.8005e-01, 9.9456e-01, 9.9125e-01],\n",
      "        [6.5573e-10, 4.7085e-03, 4.5067e-05, 2.1431e-01, 3.5847e-03, 9.5462e-02,\n",
      "         9.8822e-01, 9.7322e-01, 1.5438e-03, 9.9999e-01],\n",
      "        [3.3352e-09, 1.2222e-01, 8.7688e-07, 8.9917e-01, 2.7664e-05, 2.9293e-02,\n",
      "         3.8688e-04, 9.9990e-01, 4.5912e-01, 1.0000e+00],\n",
      "        [5.1317e-10, 1.5202e-01, 3.5326e-05, 9.4217e-01, 1.5831e-03, 1.0037e-01,\n",
      "         3.9108e-01, 7.3633e-01, 7.7417e-02, 9.9999e-01],\n",
      "        [2.9210e-07, 3.2286e-04, 1.8506e-05, 8.9996e-01, 9.9786e-01, 8.1603e-03,\n",
      "         9.8791e-01, 3.1833e-03, 3.1555e-03, 1.0000e+00],\n",
      "        [9.8532e-11, 2.0667e-01, 4.9703e-04, 9.4356e-01, 4.1634e-06, 1.6698e-06,\n",
      "         4.3629e-01, 5.4408e-01, 4.2185e-01, 1.0000e+00],\n",
      "        [2.3256e-12, 4.7186e-04, 9.8675e-08, 9.8390e-01, 9.6921e-08, 7.0434e-04,\n",
      "         9.8280e-01, 3.9526e-01, 1.4592e-01, 1.0000e+00],\n",
      "        [8.8793e-10, 1.0996e-04, 3.9952e-05, 2.0854e-03, 7.8224e-05, 8.4511e-06,\n",
      "         3.4915e-01, 9.9264e-01, 2.6248e-02, 1.0000e+00],\n",
      "        [2.1285e-09, 2.0466e-02, 3.8738e-05, 9.2759e-01, 5.8040e-04, 2.3897e-03,\n",
      "         1.5557e-05, 8.6735e-01, 6.1349e-06, 1.0000e+00],\n",
      "        [1.2439e-08, 2.7608e-03, 9.8671e-06, 2.8947e-04, 3.7504e-04, 1.9013e-02,\n",
      "         6.2862e-02, 7.4967e-01, 1.9609e-02, 9.9993e-01],\n",
      "        [2.2504e-11, 4.0215e-02, 5.5137e-03, 9.9958e-01, 5.2023e-05, 4.7266e-02,\n",
      "         1.5129e-05, 1.8514e-02, 2.7733e-02, 9.9998e-01],\n",
      "        [3.3459e-10, 7.9722e-01, 2.2729e-05, 1.0000e+00, 1.1648e-01, 3.7326e-05,\n",
      "         1.0000e+00, 3.0411e-02, 1.0546e-01, 9.9961e-01],\n",
      "        [1.0500e-09, 3.3514e-09, 4.2492e-07, 5.0386e-03, 8.4450e-03, 7.2658e-01,\n",
      "         8.1966e-02, 1.0128e-02, 2.0677e-01, 6.4418e-01],\n",
      "        [5.3478e-08, 1.0296e-05, 9.9067e-01, 9.7843e-01, 6.0819e-08, 4.7797e-05,\n",
      "         9.8345e-01, 1.7422e-01, 1.4793e-03, 9.9986e-01],\n",
      "        [5.3124e-12, 2.4661e-05, 4.9124e-02, 9.9997e-01, 1.3649e-05, 1.9198e-01,\n",
      "         9.8880e-01, 9.8730e-01, 1.6431e-01, 1.0000e+00],\n",
      "        [3.9460e-13, 3.9625e-01, 3.4461e-04, 7.3965e-01, 6.6201e-08, 2.5136e-05,\n",
      "         5.1257e-01, 4.3962e-01, 9.8778e-01, 1.0000e+00],\n",
      "        [3.1328e-12, 2.8331e-02, 6.1065e-04, 1.0000e+00, 1.4413e-06, 1.2912e-06,\n",
      "         9.9240e-01, 9.8963e-01, 9.9569e-01, 1.0000e+00],\n",
      "        [1.0147e-08, 1.0839e-02, 4.9423e-02, 9.9982e-01, 2.6527e-01, 3.7183e-04,\n",
      "         1.0000e+00, 8.5978e-01, 2.1521e-06, 7.9484e-04],\n",
      "        [8.2421e-10, 2.3095e-03, 4.9764e-01, 9.5882e-01, 2.3851e-03, 7.8571e-03,\n",
      "         2.9186e-01, 9.9215e-01, 1.6207e-01, 9.9321e-01],\n",
      "        [2.9438e-09, 4.6435e-04, 7.4520e-01, 3.7483e-01, 1.3773e-02, 2.3012e-02,\n",
      "         5.5637e-04, 5.7756e-02, 1.2588e-01, 9.9944e-01],\n",
      "        [1.0573e-13, 9.5722e-01, 3.3505e-11, 9.9075e-01, 2.1405e-08, 4.7763e-05,\n",
      "         1.0000e+00, 1.5686e-03, 7.9957e-02, 9.9999e-01],\n",
      "        [1.1578e-08, 4.6857e-02, 1.4246e-04, 8.4960e-01, 4.1062e-04, 2.8415e-01,\n",
      "         9.9628e-01, 6.8201e-01, 7.9430e-04, 1.0000e+00],\n",
      "        [1.8173e-07, 8.8779e-03, 1.0712e-01, 8.3548e-01, 6.7747e-05, 3.1229e-01,\n",
      "         9.7501e-01, 6.9842e-01, 1.1059e-01, 1.0000e+00],\n",
      "        [2.0748e-10, 2.3048e-02, 5.5075e-04, 8.4391e-01, 1.1028e-01, 1.2921e-03,\n",
      "         2.4051e-01, 5.9413e-01, 7.1566e-01, 9.9995e-01],\n",
      "        [3.5907e-07, 2.7046e-06, 8.2004e-01, 7.0403e-01, 8.2490e-08, 7.1053e-01,\n",
      "         2.8714e-05, 4.0924e-01, 1.5162e-01, 9.9996e-01],\n",
      "        [5.3040e-09, 2.6006e-05, 1.9026e-05, 9.6964e-01, 1.5518e-01, 1.0453e-04,\n",
      "         9.9344e-01, 9.5853e-01, 9.9296e-01, 9.9647e-01],\n",
      "        [3.1706e-08, 9.9856e-01, 6.7540e-05, 9.9992e-01, 1.5036e-02, 6.8106e-02,\n",
      "         9.6222e-01, 9.1543e-01, 1.0294e-01, 9.9351e-01],\n",
      "        [6.8573e-09, 9.2174e-08, 3.5969e-05, 9.6367e-06, 5.3630e-09, 1.4073e-02,\n",
      "         3.9806e-03, 1.0000e+00, 5.1564e-04, 1.0000e+00],\n",
      "        [1.8584e-13, 6.3601e-03, 7.3297e-07, 9.9999e-01, 1.1105e-02, 8.9338e-11,\n",
      "         9.9991e-01, 1.2364e-02, 5.4325e-01, 1.0000e+00],\n",
      "        [8.6579e-10, 4.3241e-02, 1.4355e-02, 9.9968e-01, 2.7653e-07, 1.8787e-03,\n",
      "         2.4901e-03, 9.9494e-01, 4.8662e-01, 1.0000e+00],\n",
      "        [1.8450e-11, 7.1955e-07, 3.3396e-01, 8.3277e-01, 6.7488e-02, 5.3065e-05,\n",
      "         9.4655e-01, 3.5168e-04, 9.9556e-01, 1.0000e+00],\n",
      "        [3.9766e-09, 2.6656e-05, 1.9669e-01, 9.9939e-01, 6.2261e-06, 1.0794e-03,\n",
      "         1.0000e+00, 9.8746e-02, 9.9568e-01, 9.7928e-01],\n",
      "        [4.4153e-08, 2.2264e-05, 1.1656e-01, 3.5173e-01, 3.3750e-06, 2.4984e-03,\n",
      "         2.3195e-02, 4.5031e-02, 2.8807e-05, 9.9999e-01],\n",
      "        [2.5267e-07, 2.5300e-05, 9.7937e-01, 8.6020e-02, 2.0412e-09, 9.2206e-01,\n",
      "         3.2269e-03, 9.5573e-01, 1.8583e-04, 1.0000e+00],\n",
      "        [7.0993e-05, 4.5728e-04, 3.7035e-05, 5.5786e-06, 1.6492e-04, 2.8840e-05,\n",
      "         6.9763e-02, 9.2522e-01, 2.8700e-04, 9.9754e-01],\n",
      "        [6.5144e-08, 1.6873e-03, 2.3489e-03, 9.9647e-01, 1.0114e-06, 3.7726e-04,\n",
      "         5.0263e-01, 9.1100e-01, 4.6934e-02, 9.8393e-01],\n",
      "        [1.3038e-07, 5.0699e-05, 9.9968e-01, 9.0213e-01, 1.4881e-06, 3.1978e-03,\n",
      "         9.4322e-01, 6.1001e-01, 8.2730e-07, 1.0000e+00],\n",
      "        [1.7972e-08, 7.1290e-04, 1.5075e-04, 9.9997e-01, 4.1414e-05, 4.5844e-04,\n",
      "         4.8180e-01, 3.3210e-02, 1.5263e-05, 1.0000e+00],\n",
      "        [1.5141e-07, 1.8518e-05, 9.8417e-01, 9.9549e-01, 6.7101e-06, 4.3190e-04,\n",
      "         1.2998e-03, 2.4275e-03, 2.5100e-01, 9.9959e-01],\n",
      "        [1.9382e-08, 3.5569e-05, 7.2386e-06, 9.9670e-01, 1.7561e-06, 7.0568e-05,\n",
      "         8.7889e-01, 9.9090e-01, 9.8206e-01, 9.9987e-01],\n",
      "        [1.2230e-10, 6.6886e-04, 1.4534e-06, 3.7768e-01, 7.3421e-08, 3.7653e-04,\n",
      "         4.0625e-01, 6.4621e-04, 8.7519e-01, 9.2384e-01],\n",
      "        [1.8487e-08, 1.1889e-06, 1.3863e-06, 2.5046e-02, 4.5247e-01, 1.3218e-03,\n",
      "         9.0610e-01, 9.8234e-01, 5.0851e-05, 6.0569e-01],\n",
      "        [1.5823e-05, 2.0270e-02, 4.6970e-03, 6.1507e-01, 4.6159e-01, 1.1353e-01,\n",
      "         4.1727e-02, 2.9056e-03, 1.0541e-04, 1.0000e+00],\n",
      "        [2.8222e-07, 4.2121e-07, 5.9106e-06, 1.4624e-02, 1.2973e-03, 4.3374e-03,\n",
      "         1.3210e-03, 8.0397e-04, 7.4172e-01, 1.7535e-01],\n",
      "        [5.7054e-14, 1.0506e-05, 4.4173e-01, 9.9999e-01, 2.3426e-04, 5.1540e-05,\n",
      "         9.1588e-01, 9.1187e-01, 9.6397e-01, 9.9998e-01],\n",
      "        [2.5019e-13, 8.3013e-03, 5.3293e-03, 5.6941e-03, 2.7332e-03, 5.9862e-06,\n",
      "         8.2138e-01, 1.0068e-04, 9.9991e-01, 1.0000e+00],\n",
      "        [1.5349e-06, 4.1878e-05, 1.2267e-04, 7.1376e-01, 6.4570e-04, 4.2726e-01,\n",
      "         3.0261e-03, 4.9160e-02, 8.3758e-01, 5.1955e-01],\n",
      "        [1.7480e-10, 2.7244e-02, 2.9612e-02, 3.0077e-01, 1.6966e-06, 2.5299e-03,\n",
      "         9.9986e-01, 7.0933e-01, 5.4752e-04, 9.9994e-01],\n",
      "        [4.4235e-12, 1.8869e-04, 4.1753e-02, 9.9917e-01, 2.0740e-05, 2.6290e-06,\n",
      "         1.0000e+00, 8.2607e-03, 3.6806e-01, 9.9993e-01],\n",
      "        [1.7019e-12, 4.4717e-02, 6.1288e-05, 9.9985e-01, 4.0819e-08, 2.0614e-05,\n",
      "         3.2429e-02, 6.5140e-01, 9.9223e-01, 1.0000e+00],\n",
      "        [4.0138e-11, 6.4804e-03, 2.0632e-09, 9.9990e-01, 9.9138e-01, 4.9728e-01,\n",
      "         8.3983e-01, 2.2456e-04, 2.4532e-05, 9.9971e-01],\n",
      "        [3.9382e-09, 2.8593e-07, 8.2111e-02, 9.9770e-01, 9.9453e-01, 1.0952e-06,\n",
      "         1.1540e-02, 3.1474e-01, 3.0076e-04, 9.8363e-01],\n",
      "        [8.3842e-10, 9.0918e-07, 2.0383e-01, 9.8899e-01, 6.3559e-05, 6.7530e-06,\n",
      "         6.8423e-02, 4.0563e-02, 9.3877e-01, 1.0000e+00],\n",
      "        [1.0794e-07, 5.8404e-04, 7.5964e-02, 1.5040e-01, 6.8214e-07, 1.3691e-05,\n",
      "         4.8416e-03, 7.3848e-01, 5.1440e-07, 9.9792e-01],\n",
      "        [3.0962e-11, 5.4207e-07, 7.7862e-03, 9.9994e-01, 1.4691e-06, 4.1837e-03,\n",
      "         1.9399e-04, 4.0666e-01, 8.7771e-01, 9.9999e-01],\n",
      "        [1.3568e-07, 3.2358e-04, 1.0443e-05, 6.3981e-01, 4.3205e-02, 2.0287e-01,\n",
      "         1.1317e-01, 4.3140e-01, 3.4849e-07, 9.7761e-01],\n",
      "        [5.7714e-08, 3.2384e-02, 5.2666e-06, 9.8527e-01, 1.5174e-05, 9.8100e-01,\n",
      "         3.2654e-05, 9.7940e-01, 1.3772e-02, 1.0000e+00],\n",
      "        [4.0221e-08, 8.3868e-07, 9.6350e-01, 9.9440e-01, 4.9140e-07, 9.6816e-01,\n",
      "         3.0426e-03, 1.0968e-02, 2.0131e-01, 9.9994e-01],\n",
      "        [1.6305e-10, 1.7070e-03, 8.0303e-04, 1.0000e+00, 2.9366e-02, 6.4825e-04,\n",
      "         5.0516e-02, 9.4870e-01, 1.1076e-05, 9.9951e-01]])\n"
     ]
    }
   ],
   "source": [
    "## Your solution\n",
    "n_in = images.view(images.shape[0], -1)\n",
    "n_hid = 256\n",
    "n_out = 10\n",
    "\n",
    "\n",
    "def sigmoid(x):\n",
    "    return 1 / (1+torch.exp(-x))\n",
    "\n",
    "w1 = torch.randn((n_in[1].shape[0], n_hid))\n",
    "b1 = torch.randn((n_hid))\n",
    "w2 = torch.randn((n_hid, n_out))\n",
    "b2 = torch.randn((n_out))\n",
    "\n",
    "\n",
    "h = sigmoid(torch.mm(n_in, w1) + b1)\n",
    "\n",
    "out = sigmoid(torch.mm(h, w2) + b2)\n",
    "print(out.shape)\n",
    "print(out)"
   ]
  },
  {
   "cell_type": "markdown",
   "metadata": {},
   "source": [
    "Now we have 10 outputs for our network. We want to pass in an image to our network and get out a probability distribution over the classes that tells us the likely class(es) the image belongs to. Something that looks like this:\n",
    "<img src='assets/image_distribution.png' width=500px>\n",
    "\n",
    "Here we see that the probability for each class is roughly the same. This is representing an untrained network, it hasn't seen any data yet so it just returns a uniform distribution with equal probabilities for each class.\n",
    "\n",
    "To calculate this probability distribution, we often use the [**softmax** function](https://en.wikipedia.org/wiki/Softmax_function). Mathematically this looks like\n",
    "\n",
    "$$\n",
    "\\Large \\sigma(x_i) = \\cfrac{e^{x_i}}{\\sum_k^K{e^{x_k}}}\n",
    "$$\n",
    "\n",
    "What this does is squish each input $x_i$ between 0 and 1 and normalizes the values to give you a proper probability distribution where the probabilites sum up to one.\n",
    "\n",
    "> **Exercise:** Implement a function `softmax` that performs the softmax calculation and returns probability distributions for each example in the batch. Note that you'll need to pay attention to the shapes when doing this. If you have a tensor `a` with shape `(64, 10)` and a tensor `b` with shape `(64,)`, doing `a/b` will give you an error because PyTorch will try to do the division across the columns (called broadcasting) but you'll get a size mismatch. The way to think about this is for each of the 64 examples, you only want to divide by one value, the sum in the denominator. So you need `b` to have a shape of `(64, 1)`. This way PyTorch will divide the 10 values in each row of `a` by the one value in each row of `b`. Pay attention to how you take the sum as well. You'll need to define the `dim` keyword in `torch.sum`. Setting `dim=0` takes the sum across the rows while `dim=1` takes the sum across the columns."
   ]
  },
  {
   "cell_type": "code",
   "execution_count": 29,
   "metadata": {},
   "outputs": [
    {
     "data": {
      "text/plain": [
       "torch.Size([64, 10])"
      ]
     },
     "execution_count": 29,
     "metadata": {},
     "output_type": "execute_result"
    }
   ],
   "source": [
    "b = np.exp(out)\n",
    "b.shape"
   ]
  },
  {
   "cell_type": "code",
   "execution_count": 30,
   "metadata": {},
   "outputs": [
    {
     "name": "stdout",
     "output_type": "stream",
     "text": [
      "torch.Size([64])\n"
     ]
    }
   ],
   "source": [
    "c = torch.sum(np.exp(out), 1)\n",
    "print(c.shape)\n",
    "b/c.view(64,1);"
   ]
  },
  {
   "cell_type": "code",
   "execution_count": 31,
   "metadata": {},
   "outputs": [
    {
     "name": "stdout",
     "output_type": "stream",
     "text": [
      "torch.Size([64, 10])\n",
      "tensor([1.0000, 1.0000, 1.0000, 1.0000, 1.0000, 1.0000, 1.0000, 1.0000, 1.0000,\n",
      "        1.0000, 1.0000, 1.0000, 1.0000, 1.0000, 1.0000, 1.0000, 1.0000, 1.0000,\n",
      "        1.0000, 1.0000, 1.0000, 1.0000, 1.0000, 1.0000, 1.0000, 1.0000, 1.0000,\n",
      "        1.0000, 1.0000, 1.0000, 1.0000, 1.0000, 1.0000, 1.0000, 1.0000, 1.0000,\n",
      "        1.0000, 1.0000, 1.0000, 1.0000, 1.0000, 1.0000, 1.0000, 1.0000, 1.0000,\n",
      "        1.0000, 1.0000, 1.0000, 1.0000, 1.0000, 1.0000, 1.0000, 1.0000, 1.0000,\n",
      "        1.0000, 1.0000, 1.0000, 1.0000, 1.0000, 1.0000, 1.0000, 1.0000, 1.0000,\n",
      "        1.0000])\n"
     ]
    }
   ],
   "source": [
    "def softmax(x):\n",
    "    ## TODO: Implement the softmax function here\n",
    "    return torch.exp(x) / (torch.sum(torch.exp(x), dim=1).view(64,1))\n",
    "\n",
    "# Here, out should be the output of the network in the previous excercise with shape (64,10)\n",
    "probabilities = softmax(out)\n",
    "# Does it have the right shape? Should be (64, 10)\n",
    "print(probabilities.shape)\n",
    "# Does it sum to 1?\n",
    "print(probabilities.sum(dim=1))"
   ]
  },
  {
   "cell_type": "markdown",
   "metadata": {},
   "source": [
    "## Building networks with PyTorch\n",
    "\n",
    "PyTorch provides a module `nn` that makes building networks much simpler. Here I'll show you how to build the same one as above with 784 inputs, 256 hidden units, 10 output units and a softmax output."
   ]
  },
  {
   "cell_type": "code",
   "execution_count": 32,
   "metadata": {},
   "outputs": [],
   "source": [
    "from torch import nn"
   ]
  },
  {
   "cell_type": "code",
   "execution_count": 33,
   "metadata": {},
   "outputs": [],
   "source": [
    "class Network(nn.Module):\n",
    "    def __init__(self):\n",
    "        super().__init__()\n",
    "        \n",
    "        # Inputs to hidden layer linear transformation\n",
    "        self.hidden = nn.Linear(784, 256)\n",
    "        # Output layer, 10 units - one for each digit\n",
    "        self.output = nn.Linear(256, 10)\n",
    "        \n",
    "        # Define sigmoid activation and softmax output \n",
    "        self.sigmoid = nn.Sigmoid()\n",
    "        self.softmax = nn.Softmax(dim=1)\n",
    "        \n",
    "    def forward(self, x):\n",
    "        # Pass the input tensor through each of our operations\n",
    "        x = self.hidden(x)\n",
    "        x = self.sigmoid(x)\n",
    "        x = self.output(x)\n",
    "        x = self.softmax(x)\n",
    "        \n",
    "        return x"
   ]
  },
  {
   "cell_type": "markdown",
   "metadata": {},
   "source": [
    "Let's go through this bit by bit.\n",
    "\n",
    "```python\n",
    "class Network(nn.Module):\n",
    "```\n",
    "\n",
    "Here we're inheriting from `nn.Module`. Combined with `super().__init__()` this creates a class that tracks the architecture and provides a lot of useful methods and attributes. It is mandatory to inherit from `nn.Module` when you're creating a class for your network. The name of the class itself can be anything.\n",
    "\n",
    "```python\n",
    "self.hidden = nn.Linear(784, 256)\n",
    "```\n",
    "\n",
    "This line creates a module for a linear transformation, $x\\mathbf{W} + b$, with 784 inputs and 256 outputs and assigns it to `self.hidden`. The module automatically creates the weight and bias tensors which we'll use in the `forward` method. You can access the weight and bias tensors once the network (`net`) is created with `net.hidden.weight` and `net.hidden.bias`.\n",
    "\n",
    "```python\n",
    "self.output = nn.Linear(256, 10)\n",
    "```\n",
    "\n",
    "Similarly, this creates another linear transformation with 256 inputs and 10 outputs.\n",
    "\n",
    "```python\n",
    "self.sigmoid = nn.Sigmoid()\n",
    "self.softmax = nn.Softmax(dim=1)\n",
    "```\n",
    "\n",
    "Here I defined operations for the sigmoid activation and softmax output. Setting `dim=1` in `nn.Softmax(dim=1)` calculates softmax across the columns.\n",
    "\n",
    "```python\n",
    "def forward(self, x):\n",
    "```\n",
    "\n",
    "PyTorch networks created with `nn.Module` must have a `forward` method defined. It takes in a tensor `x` and passes it through the operations you defined in the `__init__` method.\n",
    "\n",
    "```python\n",
    "x = self.hidden(x)\n",
    "x = self.sigmoid(x)\n",
    "x = self.output(x)\n",
    "x = self.softmax(x)\n",
    "```\n",
    "\n",
    "Here the input tensor `x` is passed through each operation and reassigned to `x`. We can see that the input tensor goes through the hidden layer, then a sigmoid function, then the output layer, and finally the softmax function. It doesn't matter what you name the variables here, as long as the inputs and outputs of the operations match the network architecture you want to build. The order in which you define things in the `__init__` method doesn't matter, but you'll need to sequence the operations correctly in the `forward` method.\n",
    "\n",
    "Now we can create a `Network` object."
   ]
  },
  {
   "cell_type": "code",
   "execution_count": 34,
   "metadata": {},
   "outputs": [
    {
     "data": {
      "text/plain": [
       "Network(\n",
       "  (hidden): Linear(in_features=784, out_features=256, bias=True)\n",
       "  (output): Linear(in_features=256, out_features=10, bias=True)\n",
       "  (sigmoid): Sigmoid()\n",
       "  (softmax): Softmax(dim=1)\n",
       ")"
      ]
     },
     "execution_count": 34,
     "metadata": {},
     "output_type": "execute_result"
    }
   ],
   "source": [
    "# Create the network and look at it's text representation\n",
    "model = Network()\n",
    "model"
   ]
  },
  {
   "cell_type": "markdown",
   "metadata": {},
   "source": [
    "You can define the network somewhat more concisely and clearly using the `torch.nn.functional` module. This is the most common way you'll see networks defined as many operations are simple element-wise functions. We normally import this module as `F`, `import torch.nn.functional as F`."
   ]
  },
  {
   "cell_type": "code",
   "execution_count": 35,
   "metadata": {},
   "outputs": [],
   "source": [
    "import torch.nn.functional as F\n",
    "\n",
    "class Network(nn.Module):\n",
    "    def __init__(self):\n",
    "        super().__init__()\n",
    "        # Inputs to hidden layer linear transformation\n",
    "        self.hidden = nn.Linear(784, 256)\n",
    "        # Output layer, 10 units - one for each digit\n",
    "        self.output = nn.Linear(256, 10)\n",
    "        \n",
    "    def forward(self, x):\n",
    "        # Hidden layer with sigmoid activation\n",
    "        x = F.sigmoid(self.hidden(x))\n",
    "        # Output layer with softmax activation\n",
    "        x = F.softmax(self.output(x), dim=1)\n",
    "        \n",
    "        return x"
   ]
  },
  {
   "cell_type": "markdown",
   "metadata": {},
   "source": [
    "### Activation functions\n",
    "\n",
    "So far we've only been looking at the sigmoid activation function, but in general any function can be used as an activation function. The only requirement is that for a network to approximate a non-linear function, the activation functions must be non-linear. Here are a few more examples of common activation functions: Tanh (hyperbolic tangent), and ReLU (rectified linear unit).\n",
    "\n",
    "<img src=\"assets/activation.png\" width=700px>\n",
    "\n",
    "In practice, the ReLU function is used almost exclusively as the activation function for hidden layers."
   ]
  },
  {
   "cell_type": "markdown",
   "metadata": {},
   "source": [
    "### Your Turn to Build a Network\n",
    "\n",
    "<img src=\"assets/mlp_mnist.png\" width=600px>\n",
    "\n",
    "> **Exercise:** Create a network with 784 input units, a hidden layer with 128 units and a ReLU activation, then a hidden layer with 64 units and a ReLU activation, and finally an output layer with a softmax activation as shown above. You can use a ReLU activation with the `nn.ReLU` module or `F.relu` function.\n",
    "\n",
    "It's good practice to name your layers by their type of network, for instance 'fc' to represent a fully-connected layer. As you code your solution, use `fc1`, `fc2`, and `fc3` as your layer names."
   ]
  },
  {
   "cell_type": "code",
   "execution_count": 36,
   "metadata": {
    "scrolled": true
   },
   "outputs": [
    {
     "data": {
      "text/plain": [
       "Network(\n",
       "  (fc1): Linear(in_features=784, out_features=128, bias=True)\n",
       "  (fc2): Linear(in_features=128, out_features=64, bias=True)\n",
       "  (fc3): Linear(in_features=64, out_features=10, bias=True)\n",
       ")"
      ]
     },
     "execution_count": 36,
     "metadata": {},
     "output_type": "execute_result"
    }
   ],
   "source": [
    "## Your solution here\n",
    "import torch.nn.functional as F\n",
    "\n",
    "class Network(nn.Module):\n",
    "    def __init__(self):\n",
    "        super().__init__()\n",
    "        self.fc1 = nn.Linear(784, 128)\n",
    "        self.fc2 = nn.Linear(128, 64)\n",
    "        self.fc3 = nn.Linear(64, 10)\n",
    "        \n",
    "    def forward(self, x):\n",
    "        x = F.relu(self.fc1(x))\n",
    "        x = F.relu(self.fc2(x))\n",
    "        x = F.softmax(self.fc3(x), dim = 1)\n",
    "        \n",
    "model = Network()\n",
    "model"
   ]
  },
  {
   "cell_type": "markdown",
   "metadata": {},
   "source": [
    "### Initializing weights and biases\n",
    "\n",
    "The weights and such are automatically initialized for you, but it's possible to customize how they are initialized. The weights and biases are tensors attached to the layer you defined, you can get them with `model.fc1.weight` for instance."
   ]
  },
  {
   "cell_type": "code",
   "execution_count": 37,
   "metadata": {},
   "outputs": [
    {
     "name": "stdout",
     "output_type": "stream",
     "text": [
      "Parameter containing:\n",
      "tensor([[ 0.0216, -0.0172, -0.0232,  ..., -0.0141,  0.0327, -0.0150],\n",
      "        [-0.0200,  0.0067,  0.0252,  ...,  0.0170,  0.0049,  0.0210],\n",
      "        [ 0.0218,  0.0355,  0.0090,  ...,  0.0223,  0.0145,  0.0155],\n",
      "        ...,\n",
      "        [ 0.0119,  0.0289, -0.0287,  ...,  0.0065,  0.0148, -0.0199],\n",
      "        [ 0.0116, -0.0242,  0.0105,  ..., -0.0186, -0.0188, -0.0164],\n",
      "        [ 0.0114, -0.0104, -0.0138,  ..., -0.0010,  0.0348,  0.0229]],\n",
      "       requires_grad=True)\n",
      "Parameter containing:\n",
      "tensor([-7.6491e-03, -2.9837e-02, -3.2585e-02, -3.0725e-02,  9.3921e-03,\n",
      "        -2.8630e-02,  4.2122e-03, -2.6162e-02, -1.3822e-02, -2.6613e-02,\n",
      "        -1.4429e-02, -1.0470e-02, -2.0234e-02,  2.1209e-02,  1.5071e-02,\n",
      "         2.1282e-02,  2.5855e-02,  1.7740e-02,  1.8628e-02, -5.0606e-03,\n",
      "         1.2307e-02, -5.8721e-03, -9.6429e-04, -7.7350e-03,  1.7500e-02,\n",
      "         2.2666e-02, -1.6046e-04, -1.0849e-02,  9.9020e-03,  1.0010e-02,\n",
      "         1.9032e-02,  1.7244e-02, -2.4992e-02,  1.2227e-02,  2.0339e-02,\n",
      "        -2.9952e-02,  1.3613e-02, -1.9506e-02, -6.3032e-03,  1.7913e-02,\n",
      "        -1.6169e-02,  3.3598e-02, -3.1193e-02,  1.8740e-02,  5.2092e-03,\n",
      "        -1.4841e-03,  1.4204e-02,  3.5801e-03, -2.0234e-02,  7.3617e-04,\n",
      "         2.7495e-02, -1.6883e-02,  1.4423e-02, -3.5472e-02, -8.1805e-03,\n",
      "         2.5862e-02,  1.7022e-02, -6.6783e-04,  2.2520e-03, -1.5648e-02,\n",
      "        -1.3197e-02,  3.1748e-02,  2.3171e-02, -3.2415e-02,  3.0114e-03,\n",
      "        -2.7874e-04, -5.4411e-03, -4.8835e-03, -8.9340e-03, -1.6777e-02,\n",
      "        -2.4583e-03,  1.9157e-02, -3.2478e-02,  1.6835e-03,  6.4048e-03,\n",
      "        -3.4096e-02, -2.9167e-02,  4.6557e-03,  2.5368e-02, -2.6744e-02,\n",
      "         1.1175e-02, -1.6237e-02, -3.2093e-02, -2.2583e-02, -7.4649e-03,\n",
      "        -2.2786e-02,  3.4997e-02,  3.2218e-02, -8.6793e-03,  9.3551e-03,\n",
      "         2.1254e-02,  2.0154e-02, -2.4712e-02,  3.1846e-03, -3.0549e-02,\n",
      "         3.1680e-03, -6.6802e-03, -3.3802e-02, -5.3078e-03,  1.9006e-02,\n",
      "        -4.0435e-03, -1.3760e-03, -1.5483e-02,  1.9557e-02,  2.7976e-03,\n",
      "        -1.6845e-02, -6.6275e-03,  4.1940e-03, -5.9576e-03,  2.1390e-02,\n",
      "        -2.4593e-02,  2.4519e-02,  4.5661e-03, -7.8040e-04,  1.3723e-02,\n",
      "        -1.8060e-05, -6.1894e-03, -2.7346e-02, -1.3330e-02,  9.9638e-03,\n",
      "        -1.5049e-02,  3.5578e-02, -1.1434e-02,  7.9660e-03,  1.7652e-02,\n",
      "        -1.7939e-02,  5.1506e-03,  1.2174e-02], requires_grad=True)\n"
     ]
    }
   ],
   "source": [
    "print(model.fc1.weight)\n",
    "print(model.fc1.bias)"
   ]
  },
  {
   "cell_type": "markdown",
   "metadata": {},
   "source": [
    "For custom initialization, we want to modify these tensors in place. These are actually autograd *Variables*, so we need to get back the actual tensors with `model.fc1.weight.data`. Once we have the tensors, we can fill them with zeros (for biases) or random normal values."
   ]
  },
  {
   "cell_type": "code",
   "execution_count": 38,
   "metadata": {},
   "outputs": [
    {
     "data": {
      "text/plain": [
       "tensor([0., 0., 0., 0., 0., 0., 0., 0., 0., 0., 0., 0., 0., 0., 0., 0., 0., 0., 0., 0., 0., 0., 0., 0.,\n",
       "        0., 0., 0., 0., 0., 0., 0., 0., 0., 0., 0., 0., 0., 0., 0., 0., 0., 0., 0., 0., 0., 0., 0., 0.,\n",
       "        0., 0., 0., 0., 0., 0., 0., 0., 0., 0., 0., 0., 0., 0., 0., 0., 0., 0., 0., 0., 0., 0., 0., 0.,\n",
       "        0., 0., 0., 0., 0., 0., 0., 0., 0., 0., 0., 0., 0., 0., 0., 0., 0., 0., 0., 0., 0., 0., 0., 0.,\n",
       "        0., 0., 0., 0., 0., 0., 0., 0., 0., 0., 0., 0., 0., 0., 0., 0., 0., 0., 0., 0., 0., 0., 0., 0.,\n",
       "        0., 0., 0., 0., 0., 0., 0., 0.])"
      ]
     },
     "execution_count": 38,
     "metadata": {},
     "output_type": "execute_result"
    }
   ],
   "source": [
    "# Set biases to all zeros\n",
    "model.fc1.bias.data.fill_(0)"
   ]
  },
  {
   "cell_type": "code",
   "execution_count": 39,
   "metadata": {},
   "outputs": [
    {
     "data": {
      "text/plain": [
       "tensor([[ 0.0263, -0.0030, -0.0116,  ..., -0.0157,  0.0091, -0.0020],\n",
       "        [ 0.0059,  0.0070, -0.0028,  ..., -0.0077,  0.0047,  0.0002],\n",
       "        [-0.0057, -0.0240, -0.0131,  ..., -0.0098, -0.0056,  0.0310],\n",
       "        ...,\n",
       "        [ 0.0019, -0.0058,  0.0022,  ..., -0.0037, -0.0133,  0.0029],\n",
       "        [ 0.0072, -0.0166,  0.0013,  ..., -0.0084, -0.0063, -0.0121],\n",
       "        [ 0.0122,  0.0028, -0.0126,  ..., -0.0013,  0.0010,  0.0032]])"
      ]
     },
     "execution_count": 39,
     "metadata": {},
     "output_type": "execute_result"
    }
   ],
   "source": [
    "# sample from random normal with standard dev = 0.01\n",
    "model.fc1.weight.data.normal_(std=0.01)"
   ]
  },
  {
   "cell_type": "markdown",
   "metadata": {},
   "source": [
    "### Forward pass\n",
    "\n",
    "Now that we have a network, let's see what happens when we pass in an image."
   ]
  },
  {
   "cell_type": "code",
   "execution_count": 40,
   "metadata": {},
   "outputs": [],
   "source": [
    "# Grab some data \n",
    "dataiter = iter(trainloader)\n",
    "images, labels = dataiter.next()\n",
    "\n",
    "# Resize images into a 1D vector, new shape is (batch size, color channels, image pixels) \n",
    "images.resize_(64, 1, 784)\n",
    "# or images.resize_(images.shape[0], 1, 784) to automatically get batch size\n",
    "\n",
    "# Forward pass through the network\n",
    "img_idx = 0\n",
    "ps = model.forward(images[img_idx,:])\n",
    "\n",
    "img = images[img_idx]\n",
    "# helper.view_classify(img.view(1, 28, 28), ps)"
   ]
  },
  {
   "cell_type": "markdown",
   "metadata": {},
   "source": [
    "As you can see above, our network has basically no idea what this digit is. It's because we haven't trained it yet, all the weights are random!\n",
    "\n",
    "### Using `nn.Sequential`\n",
    "\n",
    "PyTorch provides a convenient way to build networks like this where a tensor is passed sequentially through operations, `nn.Sequential` ([documentation](https://pytorch.org/docs/master/nn.html#torch.nn.Sequential)). Using this to build the equivalent network:"
   ]
  },
  {
   "cell_type": "code",
   "execution_count": 41,
   "metadata": {},
   "outputs": [
    {
     "name": "stdout",
     "output_type": "stream",
     "text": [
      "Sequential(\n",
      "  (0): Linear(in_features=784, out_features=128, bias=True)\n",
      "  (1): ReLU()\n",
      "  (2): Linear(in_features=128, out_features=64, bias=True)\n",
      "  (3): ReLU()\n",
      "  (4): Linear(in_features=64, out_features=10, bias=True)\n",
      "  (5): Softmax(dim=1)\n",
      ")\n"
     ]
    }
   ],
   "source": [
    "# Hyperparameters for our network\n",
    "input_size = 784\n",
    "hidden_sizes = [128, 64]\n",
    "output_size = 10\n",
    "\n",
    "# Build a feed-forward network\n",
    "model = nn.Sequential(nn.Linear(input_size, hidden_sizes[0]),\n",
    "                      nn.ReLU(),\n",
    "                      nn.Linear(hidden_sizes[0], hidden_sizes[1]),\n",
    "                      nn.ReLU(),\n",
    "                      nn.Linear(hidden_sizes[1], output_size),\n",
    "                      nn.Softmax(dim=1))\n",
    "print(model)\n",
    "\n",
    "# Forward pass through the network and display output\n",
    "images, labels = next(iter(trainloader))\n",
    "images.resize_(images.shape[0], 1, 784)\n",
    "ps = model.forward(images[0,:])\n",
    "# helper.view_classify(images[0].view(1, 28, 28), ps)"
   ]
  },
  {
   "cell_type": "markdown",
   "metadata": {},
   "source": [
    "Here our model is the same as before: 784 input units, a hidden layer with 128 units, ReLU activation, 64 unit hidden layer, another ReLU, then the output layer with 10 units, and the softmax output.\n",
    "\n",
    "The operations are available by passing in the appropriate index. For example, if you want to get first Linear operation and look at the weights, you'd use `model[0]`."
   ]
  },
  {
   "cell_type": "code",
   "execution_count": 42,
   "metadata": {},
   "outputs": [
    {
     "name": "stdout",
     "output_type": "stream",
     "text": [
      "Linear(in_features=784, out_features=128, bias=True)\n"
     ]
    },
    {
     "data": {
      "text/plain": [
       "Parameter containing:\n",
       "tensor([[-0.0223, -0.0237,  0.0309,  ...,  0.0050, -0.0011, -0.0351],\n",
       "        [ 0.0011,  0.0009,  0.0255,  ..., -0.0033, -0.0004, -0.0105],\n",
       "        [-0.0106, -0.0325,  0.0317,  ...,  0.0012,  0.0117,  0.0134],\n",
       "        ...,\n",
       "        [-0.0003,  0.0329,  0.0089,  ...,  0.0038, -0.0327,  0.0068],\n",
       "        [-0.0146,  0.0315,  0.0030,  ...,  0.0151, -0.0087,  0.0105],\n",
       "        [ 0.0346, -0.0166, -0.0194,  ...,  0.0062,  0.0060, -0.0071]],\n",
       "       requires_grad=True)"
      ]
     },
     "execution_count": 42,
     "metadata": {},
     "output_type": "execute_result"
    }
   ],
   "source": [
    "print(model[0])\n",
    "model[0].weight"
   ]
  },
  {
   "cell_type": "markdown",
   "metadata": {},
   "source": [
    "You can also pass in an `OrderedDict` to name the individual layers and operations, instead of using incremental integers. Note that dictionary keys must be unique, so _each operation must have a different name_."
   ]
  },
  {
   "cell_type": "code",
   "execution_count": 43,
   "metadata": {},
   "outputs": [
    {
     "data": {
      "text/plain": [
       "Sequential(\n",
       "  (fc1): Linear(in_features=784, out_features=128, bias=True)\n",
       "  (relu1): ReLU()\n",
       "  (fc2): Linear(in_features=128, out_features=64, bias=True)\n",
       "  (relu2): ReLU()\n",
       "  (output): Linear(in_features=64, out_features=10, bias=True)\n",
       "  (softmax): Softmax(dim=1)\n",
       ")"
      ]
     },
     "execution_count": 43,
     "metadata": {},
     "output_type": "execute_result"
    }
   ],
   "source": [
    "from collections import OrderedDict\n",
    "model = nn.Sequential(OrderedDict([\n",
    "                      ('fc1', nn.Linear(input_size, hidden_sizes[0])),\n",
    "                      ('relu1', nn.ReLU()),\n",
    "                      ('fc2', nn.Linear(hidden_sizes[0], hidden_sizes[1])),\n",
    "                      ('relu2', nn.ReLU()),\n",
    "                      ('output', nn.Linear(hidden_sizes[1], output_size)),\n",
    "                      ('softmax', nn.Softmax(dim=1))]))\n",
    "model"
   ]
  },
  {
   "cell_type": "markdown",
   "metadata": {},
   "source": [
    "Now you can access layers either by integer or the name"
   ]
  },
  {
   "cell_type": "code",
   "execution_count": 44,
   "metadata": {},
   "outputs": [
    {
     "name": "stdout",
     "output_type": "stream",
     "text": [
      "Linear(in_features=784, out_features=128, bias=True)\n",
      "Linear(in_features=784, out_features=128, bias=True)\n"
     ]
    }
   ],
   "source": [
    "print(model[0])\n",
    "print(model.fc1)"
   ]
  },
  {
   "cell_type": "markdown",
   "metadata": {},
   "source": [
    "In the next notebook, we'll see how we can train a neural network to accuractly predict the numbers appearing in the MNIST images."
   ]
  }
 ],
 "metadata": {
  "kernelspec": {
   "display_name": "Python 3",
   "language": "python",
   "name": "python3"
  },
  "language_info": {
   "codemirror_mode": {
    "name": "ipython",
    "version": 3
   },
   "file_extension": ".py",
   "mimetype": "text/x-python",
   "name": "python",
   "nbconvert_exporter": "python",
   "pygments_lexer": "ipython3",
   "version": "3.8.8"
  }
 },
 "nbformat": 4,
 "nbformat_minor": 2
}
